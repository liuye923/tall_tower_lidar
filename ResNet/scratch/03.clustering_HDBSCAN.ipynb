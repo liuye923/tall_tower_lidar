{
 "cells": [
  {
   "cell_type": "markdown",
   "id": "36938db1",
   "metadata": {},
   "source": [
    "Note: \n",
    "    \n",
    "Only run for winter, since we do clustering here."
   ]
  },
  {
   "cell_type": "code",
   "execution_count": 11,
   "id": "898e7d46",
   "metadata": {
    "tags": []
   },
   "outputs": [],
   "source": [
    "import numpy as np\n",
    "import scipy.io as sio\n",
    "\n",
    "import pandas as pd\n",
    "import datetime as dt"
   ]
  },
  {
   "cell_type": "code",
   "execution_count": 2,
   "id": "ce1e154d",
   "metadata": {
    "tags": []
   },
   "outputs": [],
   "source": [
    "from sklearn.cluster import HDBSCAN"
   ]
  },
  {
   "cell_type": "code",
   "execution_count": 3,
   "id": "dc484368",
   "metadata": {
    "tags": []
   },
   "outputs": [],
   "source": [
    "rootdir = '/global/cfs/projectdirs/m1657/liuy351/TallTower/'\n"
   ]
  },
  {
   "cell_type": "code",
   "execution_count": 4,
   "id": "17e94360",
   "metadata": {
    "tags": []
   },
   "outputs": [],
   "source": [
    "opt_model = 'R18'"
   ]
  },
  {
   "cell_type": "code",
   "execution_count": 5,
   "id": "d6f39ff5",
   "metadata": {
    "tags": []
   },
   "outputs": [],
   "source": [
    "ts_full = pd.date_range('2001-01-01 00:00', end='2020-12-31 23:00', freq='h')"
   ]
  },
  {
   "cell_type": "markdown",
   "id": "31d91e00",
   "metadata": {},
   "source": [
    "## 1. Run a classifier to cluster weather systems"
   ]
  },
  {
   "cell_type": "markdown",
   "id": "94f48e47",
   "metadata": {},
   "source": [
    "### 1.1 20 years"
   ]
  },
  {
   "cell_type": "code",
   "execution_count": 21,
   "id": "240368cb",
   "metadata": {
    "tags": []
   },
   "outputs": [
    {
     "name": "stdout",
     "output_type": "stream",
     "text": [
      "(175320,) 52608\n"
     ]
    }
   ],
   "source": [
    "tag_20year = (ts_full.year>=2015)&(ts_full.year<=2020)\n",
    "print(tag_20year.shape, tag_20year.sum())"
   ]
  },
  {
   "cell_type": "code",
   "execution_count": 22,
   "id": "920b8076",
   "metadata": {
    "tags": []
   },
   "outputs": [
    {
     "name": "stdout",
     "output_type": "stream",
     "text": [
      "/global/cfs/projectdirs/m1657/liuy351/TallTower/ResNet_output/R18_output.anomaly.2001-2020.ERA5.mat\n",
      "(52608, 512)\n"
     ]
    }
   ],
   "source": [
    "infile = rootdir + 'ResNet_output/%s_output.anomaly.2001-2020.ERA5.mat' % opt_model\n",
    "print(infile)\n",
    "inds = sio.loadmat(infile)\n",
    "full_NCLtag = inds['ResNetoutput'][tag_20year==1]\n",
    "\n",
    "print(full_NCLtag.shape)"
   ]
  },
  {
   "cell_type": "code",
   "execution_count": 23,
   "id": "c496e7b6-76cf-4ceb-8cd4-a61ec6e4cbed",
   "metadata": {
    "tags": []
   },
   "outputs": [],
   "source": [
    "# import dask.array as da\n",
    "# full_NCLtag = da.from_array(full_NCLtag, chunks=(128, 512))"
   ]
  },
  {
   "cell_type": "code",
   "execution_count": null,
   "id": "6f36fe6a-52d9-4493-901a-b18e19f7e37d",
   "metadata": {
    "tags": []
   },
   "outputs": [],
   "source": [
    "full_NCLtag"
   ]
  },
  {
   "cell_type": "code",
   "execution_count": 24,
   "id": "d1bc2ce3-46f0-4065-a68d-1d587bc59bf8",
   "metadata": {
    "tags": []
   },
   "outputs": [
    {
     "name": "stdout",
     "output_type": "stream",
     "text": [
      "(52608, 52608)\n",
      "0:02:03.815787\n"
     ]
    }
   ],
   "source": [
    "import numpy as np\n",
    "from scipy.spatial.distance import cdist\n",
    "from multiprocessing import Pool\n",
    "import functools\n",
    "\n",
    "def compute_distances(data_chunk, full_data):\n",
    "    \"\"\"Compute distances between a chunk of data and the full dataset.\"\"\"\n",
    "    return cdist(data_chunk, full_data, metric='euclidean')\n",
    "\n",
    "def parallel_distance_matrix(data, num_splits):\n",
    "    \"\"\"Calculate the full distance matrix in parallel.\"\"\"\n",
    "    # Split data into chunks\n",
    "    chunks = np.array_split(data, num_splits)\n",
    "\n",
    "    # Create a pool of processes\n",
    "    with Pool() as pool:\n",
    "        # Partial function with fixed full_data\n",
    "        partial_compute_distances = functools.partial(compute_distances, full_data=data)\n",
    "        \n",
    "        # Map-reduce: map the function over the chunks and reduce the result\n",
    "        distance_chunks = pool.map(partial_compute_distances, chunks)\n",
    "\n",
    "    # Concatenate the results to form the full distance matrix\n",
    "    return np.vstack(distance_chunks)\n",
    "\n",
    "t1 = dt.datetime.now()\n",
    "# Example usage\n",
    "num_processors = 128  # Number of processors\n",
    "distance_matrix = parallel_distance_matrix(full_NCLtag, num_processors)\n",
    "t2 = dt.datetime.now()\n",
    "print(distance_matrix.shape)\n",
    "print((t2-t1))"
   ]
  },
  {
   "cell_type": "code",
   "execution_count": 32,
   "id": "30ef0cfb-24e3-48c6-99ac-c9b326f1966e",
   "metadata": {
    "tags": []
   },
   "outputs": [],
   "source": [
    "import xarray as xr\n",
    "da = xr.DataArray(distance_matrix)\n",
    "da.to_netcdf('test.nc')"
   ]
  },
  {
   "cell_type": "code",
   "execution_count": 28,
   "id": "5af206c3-8d2d-49f5-9bd0-6a9df71f458e",
   "metadata": {
    "tags": []
   },
   "outputs": [
    {
     "name": "stdout",
     "output_type": "stream",
     "text": [
      "writing to /global/cfs/projectdirs/m1657/liuy351/TallTower/ResNet_output/R18_distance_matrix.2015-2020.ERA5.mat ...\n"
     ]
    },
    {
     "ename": "MatWriteError",
     "evalue": "Matrix too large to save with Matlab 5 format",
     "output_type": "error",
     "traceback": [
      "\u001b[0;31m---------------------------------------------------------------------------\u001b[0m",
      "\u001b[0;31mMatWriteError\u001b[0m                             Traceback (most recent call last)",
      "Cell \u001b[0;32mIn[28], line 5\u001b[0m\n\u001b[1;32m      3\u001b[0m description \u001b[38;5;241m=\u001b[39m \u001b[38;5;124m'\u001b[39m\u001b[38;5;124mCalculate the distance matrix for reducing the computation of clustering\u001b[39m\u001b[38;5;124m'\u001b[39m\n\u001b[1;32m      4\u001b[0m script \u001b[38;5;241m=\u001b[39m \u001b[38;5;124m'\u001b[39m\u001b[38;5;124m/global/cfs/projectdirs/m1657/liuy351/TallTower/03.clustering_HDBSCAN.ipynb\u001b[39m\u001b[38;5;124m'\u001b[39m\n\u001b[0;32m----> 5\u001b[0m \u001b[43msio\u001b[49m\u001b[38;5;241;43m.\u001b[39;49m\u001b[43msavemat\u001b[49m\u001b[43m(\u001b[49m\u001b[43moutfile\u001b[49m\u001b[43m,\u001b[49m\u001b[43m \u001b[49m\u001b[43m{\u001b[49m\u001b[38;5;124;43m'\u001b[39;49m\u001b[38;5;124;43mdistance_matrix\u001b[39;49m\u001b[38;5;124;43m'\u001b[39;49m\u001b[43m:\u001b[49m\u001b[43mdistance_matrix\u001b[49m\u001b[43m,\u001b[49m\u001b[43m \u001b[49m\u001b[38;5;124;43m'\u001b[39;49m\u001b[38;5;124;43mdescription\u001b[39;49m\u001b[38;5;124;43m'\u001b[39;49m\u001b[43m:\u001b[49m\u001b[43mdescription\u001b[49m\u001b[43m,\u001b[49m\u001b[43m \u001b[49m\u001b[38;5;124;43m'\u001b[39;49m\u001b[38;5;124;43mscript\u001b[39;49m\u001b[38;5;124;43m'\u001b[39;49m\u001b[43m:\u001b[49m\u001b[43mscript\u001b[49m\u001b[43m}\u001b[49m\u001b[43m,\u001b[49m\u001b[43m \u001b[49m\u001b[43mdo_compression\u001b[49m\u001b[38;5;241;43m=\u001b[39;49m\u001b[38;5;28;43;01mTrue\u001b[39;49;00m\u001b[43m)\u001b[49m\n\u001b[1;32m      6\u001b[0m \u001b[38;5;66;03m# sio.savemat(outfile, {'distance_matrix':distance_matrix})\u001b[39;00m\n\u001b[1;32m      7\u001b[0m \u001b[38;5;66;03m# sio.netcdf_file\u001b[39;00m\n",
      "File \u001b[0;32m~/.conda/envs/compute/lib/python3.11/site-packages/scipy/io/matlab/_mio.py:301\u001b[0m, in \u001b[0;36msavemat\u001b[0;34m(file_name, mdict, appendmat, format, long_field_names, do_compression, oned_as)\u001b[0m\n\u001b[1;32m    299\u001b[0m \u001b[38;5;28;01melse\u001b[39;00m:\n\u001b[1;32m    300\u001b[0m     \u001b[38;5;28;01mraise\u001b[39;00m \u001b[38;5;167;01mValueError\u001b[39;00m(\u001b[38;5;124m\"\u001b[39m\u001b[38;5;124mFormat should be \u001b[39m\u001b[38;5;124m'\u001b[39m\u001b[38;5;124m4\u001b[39m\u001b[38;5;124m'\u001b[39m\u001b[38;5;124m or \u001b[39m\u001b[38;5;124m'\u001b[39m\u001b[38;5;124m5\u001b[39m\u001b[38;5;124m'\u001b[39m\u001b[38;5;124m\"\u001b[39m)\n\u001b[0;32m--> 301\u001b[0m \u001b[43mMW\u001b[49m\u001b[38;5;241;43m.\u001b[39;49m\u001b[43mput_variables\u001b[49m\u001b[43m(\u001b[49m\u001b[43mmdict\u001b[49m\u001b[43m)\u001b[49m\n",
      "File \u001b[0;32m~/.conda/envs/compute/lib/python3.11/site-packages/scipy/io/matlab/_mio5.py:884\u001b[0m, in \u001b[0;36mMatFile5Writer.put_variables\u001b[0;34m(self, mdict, write_header)\u001b[0m\n\u001b[1;32m    882\u001b[0m stream \u001b[38;5;241m=\u001b[39m BytesIO()\n\u001b[1;32m    883\u001b[0m \u001b[38;5;28mself\u001b[39m\u001b[38;5;241m.\u001b[39m_matrix_writer\u001b[38;5;241m.\u001b[39mfile_stream \u001b[38;5;241m=\u001b[39m stream\n\u001b[0;32m--> 884\u001b[0m \u001b[38;5;28;43mself\u001b[39;49m\u001b[38;5;241;43m.\u001b[39;49m\u001b[43m_matrix_writer\u001b[49m\u001b[38;5;241;43m.\u001b[39;49m\u001b[43mwrite_top\u001b[49m\u001b[43m(\u001b[49m\u001b[43mvar\u001b[49m\u001b[43m,\u001b[49m\u001b[43m \u001b[49m\u001b[43mname\u001b[49m\u001b[38;5;241;43m.\u001b[39;49m\u001b[43mencode\u001b[49m\u001b[43m(\u001b[49m\u001b[38;5;124;43m'\u001b[39;49m\u001b[38;5;124;43mlatin1\u001b[39;49m\u001b[38;5;124;43m'\u001b[39;49m\u001b[43m)\u001b[49m\u001b[43m,\u001b[49m\u001b[43m \u001b[49m\u001b[43mis_global\u001b[49m\u001b[43m)\u001b[49m\n\u001b[1;32m    885\u001b[0m out_str \u001b[38;5;241m=\u001b[39m zlib\u001b[38;5;241m.\u001b[39mcompress(stream\u001b[38;5;241m.\u001b[39mgetvalue())\n\u001b[1;32m    886\u001b[0m tag \u001b[38;5;241m=\u001b[39m np\u001b[38;5;241m.\u001b[39mempty((), NDT_TAG_FULL)\n",
      "File \u001b[0;32m~/.conda/envs/compute/lib/python3.11/site-packages/scipy/io/matlab/_mio5.py:634\u001b[0m, in \u001b[0;36mVarWriter5.write_top\u001b[0;34m(self, arr, name, is_global)\u001b[0m\n\u001b[1;32m    632\u001b[0m \u001b[38;5;28mself\u001b[39m\u001b[38;5;241m.\u001b[39m_var_name \u001b[38;5;241m=\u001b[39m name\n\u001b[1;32m    633\u001b[0m \u001b[38;5;66;03m# write the header and data\u001b[39;00m\n\u001b[0;32m--> 634\u001b[0m \u001b[38;5;28;43mself\u001b[39;49m\u001b[38;5;241;43m.\u001b[39;49m\u001b[43mwrite\u001b[49m\u001b[43m(\u001b[49m\u001b[43marr\u001b[49m\u001b[43m)\u001b[49m\n",
      "File \u001b[0;32m~/.conda/envs/compute/lib/python3.11/site-packages/scipy/io/matlab/_mio5.py:673\u001b[0m, in \u001b[0;36mVarWriter5.write\u001b[0;34m(self, arr)\u001b[0m\n\u001b[1;32m    671\u001b[0m \u001b[38;5;28;01melse\u001b[39;00m:\n\u001b[1;32m    672\u001b[0m     \u001b[38;5;28mself\u001b[39m\u001b[38;5;241m.\u001b[39mwrite_numeric(narr)\n\u001b[0;32m--> 673\u001b[0m \u001b[38;5;28;43mself\u001b[39;49m\u001b[38;5;241;43m.\u001b[39;49m\u001b[43mupdate_matrix_tag\u001b[49m\u001b[43m(\u001b[49m\u001b[43mmat_tag_pos\u001b[49m\u001b[43m)\u001b[49m\n",
      "File \u001b[0;32m~/.conda/envs/compute/lib/python3.11/site-packages/scipy/io/matlab/_mio5.py:610\u001b[0m, in \u001b[0;36mVarWriter5.update_matrix_tag\u001b[0;34m(self, start_pos)\u001b[0m\n\u001b[1;32m    608\u001b[0m byte_count \u001b[38;5;241m=\u001b[39m curr_pos \u001b[38;5;241m-\u001b[39m start_pos \u001b[38;5;241m-\u001b[39m \u001b[38;5;241m8\u001b[39m\n\u001b[1;32m    609\u001b[0m \u001b[38;5;28;01mif\u001b[39;00m byte_count \u001b[38;5;241m>\u001b[39m\u001b[38;5;241m=\u001b[39m \u001b[38;5;241m2\u001b[39m\u001b[38;5;241m*\u001b[39m\u001b[38;5;241m*\u001b[39m\u001b[38;5;241m32\u001b[39m:\n\u001b[0;32m--> 610\u001b[0m     \u001b[38;5;28;01mraise\u001b[39;00m MatWriteError(\u001b[38;5;124m\"\u001b[39m\u001b[38;5;124mMatrix too large to save with Matlab \u001b[39m\u001b[38;5;124m\"\u001b[39m\n\u001b[1;32m    611\u001b[0m                         \u001b[38;5;124m\"\u001b[39m\u001b[38;5;124m5 format\u001b[39m\u001b[38;5;124m\"\u001b[39m)\n\u001b[1;32m    612\u001b[0m \u001b[38;5;28mself\u001b[39m\u001b[38;5;241m.\u001b[39mmat_tag[\u001b[38;5;124m'\u001b[39m\u001b[38;5;124mbyte_count\u001b[39m\u001b[38;5;124m'\u001b[39m] \u001b[38;5;241m=\u001b[39m byte_count\n\u001b[1;32m    613\u001b[0m \u001b[38;5;28mself\u001b[39m\u001b[38;5;241m.\u001b[39mwrite_bytes(\u001b[38;5;28mself\u001b[39m\u001b[38;5;241m.\u001b[39mmat_tag)\n",
      "\u001b[0;31mMatWriteError\u001b[0m: Matrix too large to save with Matlab 5 format"
     ]
    }
   ],
   "source": [
    "outfile = rootdir + 'ResNet_output/%s_distance_matrix.2015-2020.ERA5.mat' % opt_model\n",
    "print('writing to %s ...' % outfile)\n",
    "description = 'Calculate the distance matrix for reducing the computation of clustering'\n",
    "script = '/global/cfs/projectdirs/m1657/liuy351/TallTower/03.clustering_HDBSCAN.ipynb'\n",
    "sio.savemat(outfile, {'distance_matrix':distance_matrix, 'description':description, 'script':script}, do_compression=True)\n",
    "# sio.savemat(outfile, {'distance_matrix':distance_matrix})\n",
    "# sio.netcdf_file"
   ]
  },
  {
   "cell_type": "code",
   "execution_count": 9,
   "id": "39124f8c-c9b6-4318-a3c0-6799778ad15e",
   "metadata": {
    "tags": []
   },
   "outputs": [
    {
     "name": "stdout",
     "output_type": "stream",
     "text": [
      "0:02:58.020605\n"
     ]
    }
   ],
   "source": [
    "print((t2-t1))"
   ]
  },
  {
   "cell_type": "code",
   "execution_count": null,
   "id": "86ec86dc",
   "metadata": {
    "scrolled": true,
    "tags": []
   },
   "outputs": [],
   "source": [
    "# kmean_results = {}\n",
    "\n",
    "# #for nclass in np.arange(2, 3, 1):\n",
    "\n",
    "# for nclass in np.arange(2, 42, 1):\n",
    "\n",
    "#     print(nclass)\n",
    "#     print(' start ', dt.datetime.now())\n",
    "#     kmean_model = KMeans(n_clusters=nclass, n_init=10, random_state=42)\n",
    "#     kmean_results['C%d'%nclass] = kmean_model.fit(full_NCLtag).labels_\n",
    "#     print(' end ', dt.datetime.now())\n",
    "\n",
    "# results = {}\n",
    "\n",
    "# PARAM = ({\"min_cluster_size\": 5}, {\"min_cluster_size\": 3}, {\"min_cluster_size\": 25})\n",
    "# for i, param in enumerate(PARAM):\n",
    "#     hdb = HDBSCAN(**param).fit(full_NCLtag)\n",
    "#     labels = hdb.labels_\n",
    "    \n",
    "param = {\"min_cluster_size\": 5}\n",
    "hdb = HDBSCAN(**param).fit(full_NCLtag)\n",
    "\n",
    "print(hdb)"
   ]
  },
  {
   "cell_type": "code",
   "execution_count": 12,
   "id": "f0917c8e",
   "metadata": {},
   "outputs": [],
   "source": [
    "kmean_results['year'] = np.array(ts_full.year[tag_winter_40year])\n",
    "kmean_results['month'] = np.array(ts_full.month[tag_winter_40year])\n",
    "kmean_results['day'] = np.array(ts_full.day[tag_winter_40year])"
   ]
  },
  {
   "cell_type": "code",
   "execution_count": 13,
   "id": "f70c341c",
   "metadata": {},
   "outputs": [],
   "source": [
    "tmpfile = rootdir + 'intermediate_data/weather_clustering/RH_input/%s.weather_clustering.40year_training.mat' % opt_model\n",
    "\n",
    "kmean_results['script'] = '/global/cfs/projectdirs/m1657/liuy351/TallTower/From_XD/step03.clustering_production_run.ipynb'\n",
    "kmean_results['note'] = 'Only for Oct-Mar. Use pandas to create a time series and filter out data. K-means trained using 40-year data. Not training-testing split'\n",
    "\n",
    "sio.savemat(tmpfile, kmean_results)"
   ]
  },
  {
   "cell_type": "markdown",
   "id": "0b57d5a7",
   "metadata": {},
   "source": [
    "### 1.2 30 year as training, then applied to 40 years"
   ]
  },
  {
   "cell_type": "code",
   "execution_count": 14,
   "id": "1d2f4615",
   "metadata": {},
   "outputs": [
    {
     "name": "stdout",
     "output_type": "stream",
     "text": [
      "(14610,) 5467\n"
     ]
    }
   ],
   "source": [
    "tag_winter_30year = (ts_full.year<=2010)&((ts_full.month>=10)|(ts_full.month<=3))\n",
    "print(tag_winter_30year.shape, tag_winter_30year.sum())"
   ]
  },
  {
   "cell_type": "code",
   "execution_count": 15,
   "id": "9b29728d",
   "metadata": {},
   "outputs": [
    {
     "name": "stdout",
     "output_type": "stream",
     "text": [
      "(5467, 512) (7290, 512)\n"
     ]
    }
   ],
   "source": [
    "infile = rootdir + 'ResNet_output/RH_input/%s_output.anomaly.daymean.1981-2020.ERA5.mat' % opt_model\n",
    "\n",
    "inds = sio.loadmat(infile)\n",
    "full_NCLtag_training = inds['ResNetoutput'][tag_winter_30year==1]\n",
    "full_NCLtag_prediction = inds['ResNetoutput'][tag_winter_40year==1]\n",
    "\n",
    "print(full_NCLtag_training.shape, full_NCLtag_prediction.shape)"
   ]
  },
  {
   "cell_type": "code",
   "execution_count": 16,
   "id": "e82ee278",
   "metadata": {
    "scrolled": true
   },
   "outputs": [
    {
     "name": "stdout",
     "output_type": "stream",
     "text": [
      "2\n",
      " start  2024-06-19 11:10:55.501459\n",
      " end  2024-06-19 11:10:55.880185\n",
      "3\n",
      " start  2024-06-19 11:10:55.880309\n",
      " end  2024-06-19 11:10:56.385458\n",
      "4\n",
      " start  2024-06-19 11:10:56.385590\n",
      " end  2024-06-19 11:10:57.085500\n",
      "5\n",
      " start  2024-06-19 11:10:57.085629\n",
      " end  2024-06-19 11:10:58.291042\n",
      "6\n",
      " start  2024-06-19 11:10:58.291165\n",
      " end  2024-06-19 11:10:59.071790\n",
      "7\n",
      " start  2024-06-19 11:10:59.071907\n",
      " end  2024-06-19 11:10:59.763407\n",
      "8\n",
      " start  2024-06-19 11:10:59.763523\n",
      " end  2024-06-19 11:11:00.893178\n",
      "9\n",
      " start  2024-06-19 11:11:00.893292\n",
      " end  2024-06-19 11:11:02.164450\n",
      "10\n",
      " start  2024-06-19 11:11:02.164573\n",
      " end  2024-06-19 11:11:03.555322\n",
      "11\n",
      " start  2024-06-19 11:11:03.555461\n",
      " end  2024-06-19 11:11:04.955148\n",
      "12\n",
      " start  2024-06-19 11:11:04.955287\n",
      " end  2024-06-19 11:11:06.196121\n",
      "13\n",
      " start  2024-06-19 11:11:06.196235\n",
      " end  2024-06-19 11:11:07.567761\n",
      "14\n",
      " start  2024-06-19 11:11:07.567889\n",
      " end  2024-06-19 11:11:09.001734\n",
      "15\n",
      " start  2024-06-19 11:11:09.001845\n",
      " end  2024-06-19 11:11:10.702496\n",
      "16\n",
      " start  2024-06-19 11:11:10.702615\n",
      " end  2024-06-19 11:11:12.796255\n",
      "17\n",
      " start  2024-06-19 11:11:12.796365\n",
      " end  2024-06-19 11:11:14.665021\n",
      "18\n",
      " start  2024-06-19 11:11:14.665134\n",
      " end  2024-06-19 11:11:16.278142\n",
      "19\n",
      " start  2024-06-19 11:11:16.278266\n",
      " end  2024-06-19 11:11:17.876085\n",
      "20\n",
      " start  2024-06-19 11:11:17.876238\n",
      " end  2024-06-19 11:11:19.667134\n",
      "21\n",
      " start  2024-06-19 11:11:19.667248\n",
      " end  2024-06-19 11:11:21.556351\n",
      "22\n",
      " start  2024-06-19 11:11:21.556492\n",
      " end  2024-06-19 11:11:23.389052\n",
      "23\n",
      " start  2024-06-19 11:11:23.389145\n",
      " end  2024-06-19 11:11:25.591068\n",
      "24\n",
      " start  2024-06-19 11:11:25.591165\n",
      " end  2024-06-19 11:11:27.773233\n",
      "25\n",
      " start  2024-06-19 11:11:27.773338\n",
      " end  2024-06-19 11:11:29.803699\n",
      "26\n",
      " start  2024-06-19 11:11:29.803811\n",
      " end  2024-06-19 11:11:31.588362\n",
      "27\n",
      " start  2024-06-19 11:11:31.588453\n",
      " end  2024-06-19 11:11:33.297636\n",
      "28\n",
      " start  2024-06-19 11:11:33.297731\n",
      " end  2024-06-19 11:11:35.278819\n",
      "29\n",
      " start  2024-06-19 11:11:35.278913\n",
      " end  2024-06-19 11:11:37.269247\n",
      "30\n",
      " start  2024-06-19 11:11:37.269337\n",
      " end  2024-06-19 11:11:39.568825\n",
      "31\n",
      " start  2024-06-19 11:11:39.568959\n",
      " end  2024-06-19 11:11:41.571149\n",
      "32\n",
      " start  2024-06-19 11:11:41.571282\n",
      " end  2024-06-19 11:11:43.980692\n",
      "33\n",
      " start  2024-06-19 11:11:43.980816\n",
      " end  2024-06-19 11:11:46.517894\n",
      "34\n",
      " start  2024-06-19 11:11:46.518010\n",
      " end  2024-06-19 11:11:48.958599\n",
      "35\n",
      " start  2024-06-19 11:11:48.958746\n",
      " end  2024-06-19 11:11:51.402066\n",
      "36\n",
      " start  2024-06-19 11:11:51.402178\n",
      " end  2024-06-19 11:11:53.380752\n",
      "37\n",
      " start  2024-06-19 11:11:53.380868\n",
      " end  2024-06-19 11:11:55.497205\n",
      "38\n",
      " start  2024-06-19 11:11:55.497332\n",
      " end  2024-06-19 11:11:57.965432\n",
      "39\n",
      " start  2024-06-19 11:11:57.965552\n",
      " end  2024-06-19 11:12:00.278051\n",
      "40\n",
      " start  2024-06-19 11:12:00.278218\n",
      " end  2024-06-19 11:12:02.772467\n",
      "41\n",
      " start  2024-06-19 11:12:02.772627\n",
      " end  2024-06-19 11:12:05.075772\n"
     ]
    }
   ],
   "source": [
    "kmean_results = {}\n",
    "\n",
    "#for nclass in np.arange(2, 3, 1):\n",
    "\n",
    "for nclass in np.arange(2, 42, 1):\n",
    "\n",
    "    print(nclass)\n",
    "    print(' start ', dt.datetime.now())\n",
    "    kmean_model = KMeans(n_clusters=nclass, n_init=10, random_state=42)\n",
    "    whatever_output = kmean_model.fit(full_NCLtag_training).labels_\n",
    "    kmean_results['C%d'%nclass] = kmean_model.predict(full_NCLtag_prediction)\n",
    "    print(' end ', dt.datetime.now())"
   ]
  },
  {
   "cell_type": "code",
   "execution_count": 17,
   "id": "9c9140f6",
   "metadata": {},
   "outputs": [],
   "source": [
    "kmean_results['year'] = np.array(ts_full.year[tag_winter_40year])\n",
    "kmean_results['month'] = np.array(ts_full.month[tag_winter_40year])\n",
    "kmean_results['day'] = np.array(ts_full.day[tag_winter_40year])"
   ]
  },
  {
   "cell_type": "code",
   "execution_count": 19,
   "id": "39b52466",
   "metadata": {},
   "outputs": [],
   "source": [
    "tmpfile = rootdir + 'intermediate_data/weather_clustering/RH_input/%s.weather_clustering.30year_training.mat' % opt_model\n",
    "\n",
    "kmean_results['script'] = '/global/cfs/projectdirs/m1657/liuy351/TallTower/From_XD/step03.clustering_production_run.ipynb'\n",
    "kmean_results['note'] = 'Only for Oct-Mar. Use pandas to create a time series and filter out data. K-means trained using 30-year data (1981-2010). 2011-2020 are prediction'\n",
    "\n",
    "sio.savemat(tmpfile, kmean_results)"
   ]
  },
  {
   "cell_type": "markdown",
   "id": "b2ccf21c",
   "metadata": {},
   "source": [
    "### 1.3 20-year as training"
   ]
  },
  {
   "cell_type": "code",
   "execution_count": 20,
   "id": "aa970620",
   "metadata": {},
   "outputs": [
    {
     "name": "stdout",
     "output_type": "stream",
     "text": [
      "(14610,) 3645\n"
     ]
    }
   ],
   "source": [
    "tag_winter_20year = (ts_full.year<=2000)&((ts_full.month>=10)|(ts_full.month<=3))\n",
    "print(tag_winter_20year.shape, tag_winter_20year.sum())"
   ]
  },
  {
   "cell_type": "code",
   "execution_count": 21,
   "id": "dfddbc5b",
   "metadata": {},
   "outputs": [
    {
     "name": "stdout",
     "output_type": "stream",
     "text": [
      "(3645, 512) (7290, 512)\n"
     ]
    }
   ],
   "source": [
    "infile = rootdir + 'ResNet_output/RH_input/%s_output.anomaly.daymean.1981-2020.ERA5.mat' % opt_model\n",
    "\n",
    "inds = sio.loadmat(infile)\n",
    "full_NCLtag_training = inds['ResNetoutput'][tag_winter_20year==1]\n",
    "full_NCLtag_prediction = inds['ResNetoutput'][tag_winter_40year==1]\n",
    "\n",
    "print(full_NCLtag_training.shape, full_NCLtag_prediction.shape)"
   ]
  },
  {
   "cell_type": "code",
   "execution_count": 22,
   "id": "28b5d359",
   "metadata": {
    "scrolled": true
   },
   "outputs": [
    {
     "name": "stdout",
     "output_type": "stream",
     "text": [
      "2\n",
      " start  2024-06-19 11:12:34.943046\n",
      " end  2024-06-19 11:12:35.254898\n",
      "3\n",
      " start  2024-06-19 11:12:35.255035\n",
      " end  2024-06-19 11:12:35.676436\n",
      "4\n",
      " start  2024-06-19 11:12:35.676569\n",
      " end  2024-06-19 11:12:36.185417\n",
      "5\n",
      " start  2024-06-19 11:12:36.185535\n",
      " end  2024-06-19 11:12:36.778853\n",
      "6\n",
      " start  2024-06-19 11:12:36.778966\n",
      " end  2024-06-19 11:12:37.376690\n",
      "7\n",
      " start  2024-06-19 11:12:37.376788\n",
      " end  2024-06-19 11:12:38.196203\n",
      "8\n",
      " start  2024-06-19 11:12:38.196315\n",
      " end  2024-06-19 11:12:39.093319\n",
      "9\n",
      " start  2024-06-19 11:12:39.093435\n",
      " end  2024-06-19 11:12:39.896669\n",
      "10\n",
      " start  2024-06-19 11:12:39.896775\n",
      " end  2024-06-19 11:12:40.996252\n",
      "11\n",
      " start  2024-06-19 11:12:40.996359\n",
      " end  2024-06-19 11:12:41.957062\n",
      "12\n",
      " start  2024-06-19 11:12:41.957160\n",
      " end  2024-06-19 11:12:42.777701\n",
      "13\n",
      " start  2024-06-19 11:12:42.777815\n",
      " end  2024-06-19 11:12:43.765905\n",
      "14\n",
      " start  2024-06-19 11:12:43.766009\n",
      " end  2024-06-19 11:12:44.868077\n",
      "15\n",
      " start  2024-06-19 11:12:44.868187\n",
      " end  2024-06-19 11:12:45.955201\n",
      "16\n",
      " start  2024-06-19 11:12:45.955306\n",
      " end  2024-06-19 11:12:47.173080\n",
      "17\n",
      " start  2024-06-19 11:12:47.173186\n",
      " end  2024-06-19 11:12:48.577071\n",
      "18\n",
      " start  2024-06-19 11:12:48.577176\n",
      " end  2024-06-19 11:12:49.981768\n",
      "19\n",
      " start  2024-06-19 11:12:49.981863\n",
      " end  2024-06-19 11:12:51.264276\n",
      "20\n",
      " start  2024-06-19 11:12:51.264377\n",
      " end  2024-06-19 11:12:52.682096\n",
      "21\n",
      " start  2024-06-19 11:12:52.682191\n",
      " end  2024-06-19 11:12:54.097377\n",
      "22\n",
      " start  2024-06-19 11:12:54.097490\n",
      " end  2024-06-19 11:12:55.763917\n",
      "23\n",
      " start  2024-06-19 11:12:55.764011\n",
      " end  2024-06-19 11:12:57.264505\n",
      "24\n",
      " start  2024-06-19 11:12:57.264594\n",
      " end  2024-06-19 11:12:58.568872\n",
      "25\n",
      " start  2024-06-19 11:12:58.568975\n",
      " end  2024-06-19 11:12:59.568115\n",
      "26\n",
      " start  2024-06-19 11:12:59.568376\n",
      " end  2024-06-19 11:13:00.782089\n",
      "27\n",
      " start  2024-06-19 11:13:00.782185\n",
      " end  2024-06-19 11:13:02.389846\n",
      "28\n",
      " start  2024-06-19 11:13:02.389943\n",
      " end  2024-06-19 11:13:03.881852\n",
      "29\n",
      " start  2024-06-19 11:13:03.881968\n",
      " end  2024-06-19 11:13:05.455355\n",
      "30\n",
      " start  2024-06-19 11:13:05.455673\n",
      " end  2024-06-19 11:13:06.996168\n",
      "31\n",
      " start  2024-06-19 11:13:06.996284\n",
      " end  2024-06-19 11:13:08.767556\n",
      "32\n",
      " start  2024-06-19 11:13:08.767692\n",
      " end  2024-06-19 11:13:10.271025\n",
      "33\n",
      " start  2024-06-19 11:13:10.271152\n",
      " end  2024-06-19 11:13:11.879627\n",
      "34\n",
      " start  2024-06-19 11:13:11.879755\n",
      " end  2024-06-19 11:13:13.599905\n",
      "35\n",
      " start  2024-06-19 11:13:13.600017\n",
      " end  2024-06-19 11:13:15.488358\n",
      "36\n",
      " start  2024-06-19 11:13:15.488642\n",
      " end  2024-06-19 11:13:17.197004\n",
      "37\n",
      " start  2024-06-19 11:13:17.197103\n",
      " end  2024-06-19 11:13:19.179630\n",
      "38\n",
      " start  2024-06-19 11:13:19.179742\n",
      " end  2024-06-19 11:13:20.884847\n",
      "39\n",
      " start  2024-06-19 11:13:20.884972\n",
      " end  2024-06-19 11:13:22.498717\n",
      "40\n",
      " start  2024-06-19 11:13:22.498855\n",
      " end  2024-06-19 11:13:24.261829\n",
      "41\n",
      " start  2024-06-19 11:13:24.261939\n",
      " end  2024-06-19 11:13:25.998377\n"
     ]
    }
   ],
   "source": [
    "kmean_results = {}\n",
    "\n",
    "#for nclass in np.arange(2, 3, 1):\n",
    "\n",
    "for nclass in np.arange(2, 42, 1):\n",
    "\n",
    "    print(nclass)\n",
    "    print(' start ', dt.datetime.now())\n",
    "    kmean_model = KMeans(n_clusters=nclass, n_init=10, random_state=42)\n",
    "    whatever_output = kmean_model.fit(full_NCLtag_training).labels_\n",
    "    kmean_results['C%d'%nclass] = kmean_model.predict(full_NCLtag_prediction)\n",
    "    print(' end ', dt.datetime.now())"
   ]
  },
  {
   "cell_type": "code",
   "execution_count": 23,
   "id": "717060be",
   "metadata": {},
   "outputs": [],
   "source": [
    "kmean_results['year'] = np.array(ts_full.year[tag_winter_40year])\n",
    "kmean_results['month'] = np.array(ts_full.month[tag_winter_40year])\n",
    "kmean_results['day'] = np.array(ts_full.day[tag_winter_40year])"
   ]
  },
  {
   "cell_type": "code",
   "execution_count": 24,
   "id": "cb94b33f",
   "metadata": {},
   "outputs": [],
   "source": [
    "tmpfile = rootdir + 'intermediate_data/weather_clustering/RH_input/%s.weather_clustering.20year_training.mat' % opt_model\n",
    "\n",
    "kmean_results['script'] = '/global/cfs/projectdirs/m1657/liuy351/TallTower/From_XD/step03.clustering_production_run.ipynb'\n",
    "kmean_results['note'] = 'Only for Oct-Mar. Use pandas to create a time series and filter out data. K-means trained using 20-year data (1981-2010). 2001-2020 are prediction'\n",
    "\n",
    "sio.savemat(tmpfile, kmean_results)"
   ]
  },
  {
   "cell_type": "code",
   "execution_count": 26,
   "id": "074c00a0",
   "metadata": {},
   "outputs": [
    {
     "data": {
      "text/plain": [
       "array([ 4,  2,  2, ...,  7,  6, 13], dtype=int32)"
      ]
     },
     "execution_count": 26,
     "metadata": {},
     "output_type": "execute_result"
    }
   ],
   "source": [
    "kmean_results['C17']"
   ]
  },
  {
   "cell_type": "code",
   "execution_count": null,
   "id": "4242fcb7",
   "metadata": {},
   "outputs": [],
   "source": []
  }
 ],
 "metadata": {
  "kernelspec": {
   "display_name": "myCompute",
   "language": "python",
   "name": "compute"
  },
  "language_info": {
   "codemirror_mode": {
    "name": "ipython",
    "version": 3
   },
   "file_extension": ".py",
   "mimetype": "text/x-python",
   "name": "python",
   "nbconvert_exporter": "python",
   "pygments_lexer": "ipython3",
   "version": "3.11.5"
  }
 },
 "nbformat": 4,
 "nbformat_minor": 5
}
