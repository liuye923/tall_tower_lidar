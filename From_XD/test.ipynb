{
 "cells": [
  {
   "cell_type": "code",
   "execution_count": 1,
   "metadata": {},
   "outputs": [],
   "source": [
    "import torch\n",
    "\n",
    "batch_size = 4\n",
    "temperature = 0.5\n",
    "\n",
    "# 假设这些是通过模型得到的embeddings\n",
    "z_i = torch.tensor([\n",
    "    [0.1, 0.2, 0.3],  # A1\n",
    "    [0.4, 0.5, 0.6],  # B1\n",
    "    [0.7, 0.8, 0.9],  # C1\n",
    "    [0.2, 0.1, 0.3],  # D1\n",
    "])\n",
    "\n",
    "z_j = torch.tensor([\n",
    "    [0.1, 0.2, 0.4],  # A2\n",
    "    [0.4, 0.6, 0.5],  # B2\n",
    "    [0.8, 0.7, 0.9],  # C2\n",
    "    [0.3, 0.1, 0.2],  # D2\n",
    "])"
   ]
  },
  {
   "cell_type": "code",
   "execution_count": 3,
   "metadata": {},
   "outputs": [
    {
     "data": {
      "text/plain": [
       "tensor([[0.1000, 0.2000, 0.3000],\n",
       "        [0.4000, 0.5000, 0.6000],\n",
       "        [0.7000, 0.8000, 0.9000],\n",
       "        [0.2000, 0.1000, 0.3000],\n",
       "        [0.1000, 0.2000, 0.4000],\n",
       "        [0.4000, 0.6000, 0.5000],\n",
       "        [0.8000, 0.7000, 0.9000],\n",
       "        [0.3000, 0.1000, 0.2000]])"
      ]
     },
     "execution_count": 3,
     "metadata": {},
     "output_type": "execute_result"
    }
   ],
   "source": [
    "representations = torch.cat([z_i, z_j], dim=0)\n",
    "representations\n"
   ]
  },
  {
   "cell_type": "code",
   "execution_count": 4,
   "metadata": {},
   "outputs": [
    {
     "data": {
      "text/plain": [
       "tensor([[0.2800, 0.6400, 1.0000, 0.2600, 0.3400, 0.6200, 0.9800, 0.2200],\n",
       "        [0.6400, 1.5400, 2.4400, 0.6200, 0.7600, 1.5200, 2.4200, 0.5800],\n",
       "        [1.0000, 2.4400, 3.8800, 0.9800, 1.1800, 2.4200, 3.8600, 0.9400],\n",
       "        [0.2600, 0.6200, 0.9800, 0.2800, 0.3200, 0.5800, 1.0000, 0.2600],\n",
       "        [0.3400, 0.7600, 1.1800, 0.3200, 0.4200, 0.7200, 1.1600, 0.2600],\n",
       "        [0.6200, 1.5200, 2.4200, 0.5800, 0.7200, 1.5400, 2.3800, 0.5600],\n",
       "        [0.9800, 2.4200, 3.8600, 1.0000, 1.1600, 2.3800, 3.8800, 0.9800],\n",
       "        [0.2200, 0.5800, 0.9400, 0.2600, 0.2600, 0.5600, 0.9800, 0.2800]])"
      ]
     },
     "execution_count": 4,
     "metadata": {},
     "output_type": "execute_result"
    }
   ],
   "source": [
    "similarity_matrix = torch.matmul(representations, representations.T) / temperature\n",
    "similarity_matrix"
   ]
  },
  {
   "cell_type": "code",
   "execution_count": 5,
   "metadata": {},
   "outputs": [
    {
     "data": {
      "text/plain": [
       "tensor([0.3400, 1.5200, 3.8600, 0.2600])"
      ]
     },
     "execution_count": 5,
     "metadata": {},
     "output_type": "execute_result"
    }
   ],
   "source": [
    "positives = torch.cat([\n",
    "    similarity_matrix[0, 4].unsqueeze(0),  # A1-A2\n",
    "    similarity_matrix[1, 5].unsqueeze(0),  # B1-B2\n",
    "    similarity_matrix[2, 6].unsqueeze(0),  # C1-C2\n",
    "    similarity_matrix[3, 7].unsqueeze(0)   # D1-D2\n",
    "])\n",
    "positives"
   ]
  },
  {
   "cell_type": "code",
   "execution_count": 6,
   "metadata": {},
   "outputs": [
    {
     "data": {
      "text/plain": [
       "tensor([[False,  True,  True,  True, False,  True,  True,  True],\n",
       "        [ True, False,  True,  True,  True, False,  True,  True],\n",
       "        [ True,  True, False,  True,  True,  True, False,  True],\n",
       "        [ True,  True,  True, False,  True,  True,  True, False],\n",
       "        [False,  True,  True,  True, False,  True,  True,  True],\n",
       "        [ True, False,  True,  True,  True, False,  True,  True],\n",
       "        [ True,  True, False,  True,  True,  True, False,  True],\n",
       "        [ True,  True,  True, False,  True,  True,  True, False]])"
      ]
     },
     "execution_count": 6,
     "metadata": {},
     "output_type": "execute_result"
    }
   ],
   "source": [
    "N = 2 * batch_size\n",
    "mask = torch.ones((N, N), dtype=bool)\n",
    "mask = mask.fill_diagonal_(0)\n",
    "for i in range(batch_size):\n",
    "    mask[i, batch_size + i] = 0\n",
    "    mask[batch_size + i, i] = 0\n",
    "mask"
   ]
  },
  {
   "cell_type": "code",
   "execution_count": 14,
   "metadata": {},
   "outputs": [
    {
     "data": {
      "text/plain": [
       "tensor([[0.6400, 1.0000, 0.2600, 0.6200, 0.9800, 0.2200],\n",
       "        [0.6400, 2.4400, 0.6200, 0.7600, 2.4200, 0.5800],\n",
       "        [1.0000, 2.4400, 0.9800, 1.1800, 2.4200, 0.9400],\n",
       "        [0.2600, 0.6200, 0.9800, 0.3200, 0.5800, 1.0000],\n",
       "        [0.7600, 1.1800, 0.3200, 0.7200, 1.1600, 0.2600],\n",
       "        [0.6200, 2.4200, 0.5800, 0.7200, 2.3800, 0.5600],\n",
       "        [0.9800, 2.4200, 1.0000, 1.1600, 2.3800, 0.9800],\n",
       "        [0.2200, 0.5800, 0.9400, 0.2600, 0.5600, 0.9800]])"
      ]
     },
     "execution_count": 14,
     "metadata": {},
     "output_type": "execute_result"
    }
   ],
   "source": [
    "negatives = similarity_matrix[mask].view(N, -1)\n",
    "negatives"
   ]
  }
 ],
 "metadata": {
  "kernelspec": {
   "display_name": "Python 3",
   "language": "python",
   "name": "python3"
  },
  "language_info": {
   "codemirror_mode": {
    "name": "ipython",
    "version": 3
   },
   "file_extension": ".py",
   "mimetype": "text/x-python",
   "name": "python",
   "nbconvert_exporter": "python",
   "pygments_lexer": "ipython3",
   "version": "3.11.5"
  }
 },
 "nbformat": 4,
 "nbformat_minor": 2
}
