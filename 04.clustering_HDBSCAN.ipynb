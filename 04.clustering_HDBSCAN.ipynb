{
 "cells": [
  {
   "cell_type": "markdown",
   "id": "36938db1",
   "metadata": {},
   "source": [
    "Note: \n",
    "    \n",
    "Only run for winter, since we do clustering here."
   ]
  },
  {
   "cell_type": "code",
   "execution_count": 9,
   "id": "898e7d46",
   "metadata": {
    "tags": []
   },
   "outputs": [],
   "source": [
    "import numpy as np\n",
    "import scipy.io as sio\n",
    "\n",
    "import pandas as pd\n",
    "import datetime as dt\n",
    "import xarray as xr\n",
    "import matplotlib.pyplot as plt"
   ]
  },
  {
   "cell_type": "code",
   "execution_count": 2,
   "id": "ce1e154d",
   "metadata": {
    "tags": []
   },
   "outputs": [],
   "source": [
    "from sklearn.cluster import HDBSCAN"
   ]
  },
  {
   "cell_type": "code",
   "execution_count": 3,
   "id": "dc484368",
   "metadata": {
    "tags": []
   },
   "outputs": [],
   "source": [
    "rootdir = '/global/cfs/projectdirs/m1657/liuy351/TallTower/'\n"
   ]
  },
  {
   "cell_type": "code",
   "execution_count": 4,
   "id": "17e94360",
   "metadata": {
    "tags": []
   },
   "outputs": [],
   "source": [
    "opt_model = 'R18'"
   ]
  },
  {
   "cell_type": "code",
   "execution_count": 5,
   "id": "d6f39ff5",
   "metadata": {
    "tags": []
   },
   "outputs": [],
   "source": [
    "ts_full = pd.date_range('2001-01-01 00:00', end='2020-12-31 23:00', freq='h')"
   ]
  },
  {
   "cell_type": "markdown",
   "id": "31d91e00",
   "metadata": {},
   "source": [
    "## 1. Run a classifier to cluster weather systems"
   ]
  },
  {
   "cell_type": "markdown",
   "id": "94f48e47",
   "metadata": {},
   "source": [
    "### 1.1 20 years"
   ]
  },
  {
   "cell_type": "code",
   "execution_count": 6,
   "id": "c496e7b6-76cf-4ceb-8cd4-a61ec6e4cbed",
   "metadata": {
    "tags": []
   },
   "outputs": [
    {
     "data": {
      "text/html": [
       "<div><svg style=\"position: absolute; width: 0; height: 0; overflow: hidden\">\n",
       "<defs>\n",
       "<symbol id=\"icon-database\" viewBox=\"0 0 32 32\">\n",
       "<path d=\"M16 0c-8.837 0-16 2.239-16 5v4c0 2.761 7.163 5 16 5s16-2.239 16-5v-4c0-2.761-7.163-5-16-5z\"></path>\n",
       "<path d=\"M16 17c-8.837 0-16-2.239-16-5v6c0 2.761 7.163 5 16 5s16-2.239 16-5v-6c0 2.761-7.163 5-16 5z\"></path>\n",
       "<path d=\"M16 26c-8.837 0-16-2.239-16-5v6c0 2.761 7.163 5 16 5s16-2.239 16-5v-6c0 2.761-7.163 5-16 5z\"></path>\n",
       "</symbol>\n",
       "<symbol id=\"icon-file-text2\" viewBox=\"0 0 32 32\">\n",
       "<path d=\"M28.681 7.159c-0.694-0.947-1.662-2.053-2.724-3.116s-2.169-2.030-3.116-2.724c-1.612-1.182-2.393-1.319-2.841-1.319h-15.5c-1.378 0-2.5 1.121-2.5 2.5v27c0 1.378 1.122 2.5 2.5 2.5h23c1.378 0 2.5-1.122 2.5-2.5v-19.5c0-0.448-0.137-1.23-1.319-2.841zM24.543 5.457c0.959 0.959 1.712 1.825 2.268 2.543h-4.811v-4.811c0.718 0.556 1.584 1.309 2.543 2.268zM28 29.5c0 0.271-0.229 0.5-0.5 0.5h-23c-0.271 0-0.5-0.229-0.5-0.5v-27c0-0.271 0.229-0.5 0.5-0.5 0 0 15.499-0 15.5 0v7c0 0.552 0.448 1 1 1h7v19.5z\"></path>\n",
       "<path d=\"M23 26h-14c-0.552 0-1-0.448-1-1s0.448-1 1-1h14c0.552 0 1 0.448 1 1s-0.448 1-1 1z\"></path>\n",
       "<path d=\"M23 22h-14c-0.552 0-1-0.448-1-1s0.448-1 1-1h14c0.552 0 1 0.448 1 1s-0.448 1-1 1z\"></path>\n",
       "<path d=\"M23 18h-14c-0.552 0-1-0.448-1-1s0.448-1 1-1h14c0.552 0 1 0.448 1 1s-0.448 1-1 1z\"></path>\n",
       "</symbol>\n",
       "</defs>\n",
       "</svg>\n",
       "<style>/* CSS stylesheet for displaying xarray objects in jupyterlab.\n",
       " *\n",
       " */\n",
       "\n",
       ":root {\n",
       "  --xr-font-color0: var(--jp-content-font-color0, rgba(0, 0, 0, 1));\n",
       "  --xr-font-color2: var(--jp-content-font-color2, rgba(0, 0, 0, 0.54));\n",
       "  --xr-font-color3: var(--jp-content-font-color3, rgba(0, 0, 0, 0.38));\n",
       "  --xr-border-color: var(--jp-border-color2, #e0e0e0);\n",
       "  --xr-disabled-color: var(--jp-layout-color3, #bdbdbd);\n",
       "  --xr-background-color: var(--jp-layout-color0, white);\n",
       "  --xr-background-color-row-even: var(--jp-layout-color1, white);\n",
       "  --xr-background-color-row-odd: var(--jp-layout-color2, #eeeeee);\n",
       "}\n",
       "\n",
       "html[theme=dark],\n",
       "body[data-theme=dark],\n",
       "body.vscode-dark {\n",
       "  --xr-font-color0: rgba(255, 255, 255, 1);\n",
       "  --xr-font-color2: rgba(255, 255, 255, 0.54);\n",
       "  --xr-font-color3: rgba(255, 255, 255, 0.38);\n",
       "  --xr-border-color: #1F1F1F;\n",
       "  --xr-disabled-color: #515151;\n",
       "  --xr-background-color: #111111;\n",
       "  --xr-background-color-row-even: #111111;\n",
       "  --xr-background-color-row-odd: #313131;\n",
       "}\n",
       "\n",
       ".xr-wrap {\n",
       "  display: block !important;\n",
       "  min-width: 300px;\n",
       "  max-width: 700px;\n",
       "}\n",
       "\n",
       ".xr-text-repr-fallback {\n",
       "  /* fallback to plain text repr when CSS is not injected (untrusted notebook) */\n",
       "  display: none;\n",
       "}\n",
       "\n",
       ".xr-header {\n",
       "  padding-top: 6px;\n",
       "  padding-bottom: 6px;\n",
       "  margin-bottom: 4px;\n",
       "  border-bottom: solid 1px var(--xr-border-color);\n",
       "}\n",
       "\n",
       ".xr-header > div,\n",
       ".xr-header > ul {\n",
       "  display: inline;\n",
       "  margin-top: 0;\n",
       "  margin-bottom: 0;\n",
       "}\n",
       "\n",
       ".xr-obj-type,\n",
       ".xr-array-name {\n",
       "  margin-left: 2px;\n",
       "  margin-right: 10px;\n",
       "}\n",
       "\n",
       ".xr-obj-type {\n",
       "  color: var(--xr-font-color2);\n",
       "}\n",
       "\n",
       ".xr-sections {\n",
       "  padding-left: 0 !important;\n",
       "  display: grid;\n",
       "  grid-template-columns: 150px auto auto 1fr 20px 20px;\n",
       "}\n",
       "\n",
       ".xr-section-item {\n",
       "  display: contents;\n",
       "}\n",
       "\n",
       ".xr-section-item input {\n",
       "  display: none;\n",
       "}\n",
       "\n",
       ".xr-section-item input + label {\n",
       "  color: var(--xr-disabled-color);\n",
       "}\n",
       "\n",
       ".xr-section-item input:enabled + label {\n",
       "  cursor: pointer;\n",
       "  color: var(--xr-font-color2);\n",
       "}\n",
       "\n",
       ".xr-section-item input:enabled + label:hover {\n",
       "  color: var(--xr-font-color0);\n",
       "}\n",
       "\n",
       ".xr-section-summary {\n",
       "  grid-column: 1;\n",
       "  color: var(--xr-font-color2);\n",
       "  font-weight: 500;\n",
       "}\n",
       "\n",
       ".xr-section-summary > span {\n",
       "  display: inline-block;\n",
       "  padding-left: 0.5em;\n",
       "}\n",
       "\n",
       ".xr-section-summary-in:disabled + label {\n",
       "  color: var(--xr-font-color2);\n",
       "}\n",
       "\n",
       ".xr-section-summary-in + label:before {\n",
       "  display: inline-block;\n",
       "  content: '►';\n",
       "  font-size: 11px;\n",
       "  width: 15px;\n",
       "  text-align: center;\n",
       "}\n",
       "\n",
       ".xr-section-summary-in:disabled + label:before {\n",
       "  color: var(--xr-disabled-color);\n",
       "}\n",
       "\n",
       ".xr-section-summary-in:checked + label:before {\n",
       "  content: '▼';\n",
       "}\n",
       "\n",
       ".xr-section-summary-in:checked + label > span {\n",
       "  display: none;\n",
       "}\n",
       "\n",
       ".xr-section-summary,\n",
       ".xr-section-inline-details {\n",
       "  padding-top: 4px;\n",
       "  padding-bottom: 4px;\n",
       "}\n",
       "\n",
       ".xr-section-inline-details {\n",
       "  grid-column: 2 / -1;\n",
       "}\n",
       "\n",
       ".xr-section-details {\n",
       "  display: none;\n",
       "  grid-column: 1 / -1;\n",
       "  margin-bottom: 5px;\n",
       "}\n",
       "\n",
       ".xr-section-summary-in:checked ~ .xr-section-details {\n",
       "  display: contents;\n",
       "}\n",
       "\n",
       ".xr-array-wrap {\n",
       "  grid-column: 1 / -1;\n",
       "  display: grid;\n",
       "  grid-template-columns: 20px auto;\n",
       "}\n",
       "\n",
       ".xr-array-wrap > label {\n",
       "  grid-column: 1;\n",
       "  vertical-align: top;\n",
       "}\n",
       "\n",
       ".xr-preview {\n",
       "  color: var(--xr-font-color3);\n",
       "}\n",
       "\n",
       ".xr-array-preview,\n",
       ".xr-array-data {\n",
       "  padding: 0 5px !important;\n",
       "  grid-column: 2;\n",
       "}\n",
       "\n",
       ".xr-array-data,\n",
       ".xr-array-in:checked ~ .xr-array-preview {\n",
       "  display: none;\n",
       "}\n",
       "\n",
       ".xr-array-in:checked ~ .xr-array-data,\n",
       ".xr-array-preview {\n",
       "  display: inline-block;\n",
       "}\n",
       "\n",
       ".xr-dim-list {\n",
       "  display: inline-block !important;\n",
       "  list-style: none;\n",
       "  padding: 0 !important;\n",
       "  margin: 0;\n",
       "}\n",
       "\n",
       ".xr-dim-list li {\n",
       "  display: inline-block;\n",
       "  padding: 0;\n",
       "  margin: 0;\n",
       "}\n",
       "\n",
       ".xr-dim-list:before {\n",
       "  content: '(';\n",
       "}\n",
       "\n",
       ".xr-dim-list:after {\n",
       "  content: ')';\n",
       "}\n",
       "\n",
       ".xr-dim-list li:not(:last-child):after {\n",
       "  content: ',';\n",
       "  padding-right: 5px;\n",
       "}\n",
       "\n",
       ".xr-has-index {\n",
       "  font-weight: bold;\n",
       "}\n",
       "\n",
       ".xr-var-list,\n",
       ".xr-var-item {\n",
       "  display: contents;\n",
       "}\n",
       "\n",
       ".xr-var-item > div,\n",
       ".xr-var-item label,\n",
       ".xr-var-item > .xr-var-name span {\n",
       "  background-color: var(--xr-background-color-row-even);\n",
       "  margin-bottom: 0;\n",
       "}\n",
       "\n",
       ".xr-var-item > .xr-var-name:hover span {\n",
       "  padding-right: 5px;\n",
       "}\n",
       "\n",
       ".xr-var-list > li:nth-child(odd) > div,\n",
       ".xr-var-list > li:nth-child(odd) > label,\n",
       ".xr-var-list > li:nth-child(odd) > .xr-var-name span {\n",
       "  background-color: var(--xr-background-color-row-odd);\n",
       "}\n",
       "\n",
       ".xr-var-name {\n",
       "  grid-column: 1;\n",
       "}\n",
       "\n",
       ".xr-var-dims {\n",
       "  grid-column: 2;\n",
       "}\n",
       "\n",
       ".xr-var-dtype {\n",
       "  grid-column: 3;\n",
       "  text-align: right;\n",
       "  color: var(--xr-font-color2);\n",
       "}\n",
       "\n",
       ".xr-var-preview {\n",
       "  grid-column: 4;\n",
       "}\n",
       "\n",
       ".xr-index-preview {\n",
       "  grid-column: 2 / 5;\n",
       "  color: var(--xr-font-color2);\n",
       "}\n",
       "\n",
       ".xr-var-name,\n",
       ".xr-var-dims,\n",
       ".xr-var-dtype,\n",
       ".xr-preview,\n",
       ".xr-attrs dt {\n",
       "  white-space: nowrap;\n",
       "  overflow: hidden;\n",
       "  text-overflow: ellipsis;\n",
       "  padding-right: 10px;\n",
       "}\n",
       "\n",
       ".xr-var-name:hover,\n",
       ".xr-var-dims:hover,\n",
       ".xr-var-dtype:hover,\n",
       ".xr-attrs dt:hover {\n",
       "  overflow: visible;\n",
       "  width: auto;\n",
       "  z-index: 1;\n",
       "}\n",
       "\n",
       ".xr-var-attrs,\n",
       ".xr-var-data,\n",
       ".xr-index-data {\n",
       "  display: none;\n",
       "  background-color: var(--xr-background-color) !important;\n",
       "  padding-bottom: 5px !important;\n",
       "}\n",
       "\n",
       ".xr-var-attrs-in:checked ~ .xr-var-attrs,\n",
       ".xr-var-data-in:checked ~ .xr-var-data,\n",
       ".xr-index-data-in:checked ~ .xr-index-data {\n",
       "  display: block;\n",
       "}\n",
       "\n",
       ".xr-var-data > table {\n",
       "  float: right;\n",
       "}\n",
       "\n",
       ".xr-var-name span,\n",
       ".xr-var-data,\n",
       ".xr-index-name div,\n",
       ".xr-index-data,\n",
       ".xr-attrs {\n",
       "  padding-left: 25px !important;\n",
       "}\n",
       "\n",
       ".xr-attrs,\n",
       ".xr-var-attrs,\n",
       ".xr-var-data,\n",
       ".xr-index-data {\n",
       "  grid-column: 1 / -1;\n",
       "}\n",
       "\n",
       "dl.xr-attrs {\n",
       "  padding: 0;\n",
       "  margin: 0;\n",
       "  display: grid;\n",
       "  grid-template-columns: 125px auto;\n",
       "}\n",
       "\n",
       ".xr-attrs dt,\n",
       ".xr-attrs dd {\n",
       "  padding: 0;\n",
       "  margin: 0;\n",
       "  float: left;\n",
       "  padding-right: 10px;\n",
       "  width: auto;\n",
       "}\n",
       "\n",
       ".xr-attrs dt {\n",
       "  font-weight: normal;\n",
       "  grid-column: 1;\n",
       "}\n",
       "\n",
       ".xr-attrs dt:hover span {\n",
       "  display: inline-block;\n",
       "  background: var(--xr-background-color);\n",
       "  padding-right: 10px;\n",
       "}\n",
       "\n",
       ".xr-attrs dd {\n",
       "  grid-column: 2;\n",
       "  white-space: pre-wrap;\n",
       "  word-break: break-all;\n",
       "}\n",
       "\n",
       ".xr-icon-database,\n",
       ".xr-icon-file-text2,\n",
       ".xr-no-icon {\n",
       "  display: inline-block;\n",
       "  vertical-align: middle;\n",
       "  width: 1em;\n",
       "  height: 1.5em !important;\n",
       "  stroke-width: 0;\n",
       "  stroke: currentColor;\n",
       "  fill: currentColor;\n",
       "}\n",
       "</style><pre class='xr-text-repr-fallback'>&lt;xarray.DataArray (x: 52608, y: 52608)&gt; Size: 22GB\n",
       "[2767601664 values with dtype=float64]\n",
       "Dimensions without coordinates: x, y\n",
       "Attributes:\n",
       "    description:  Calculate the distance matrix for reducing the computation ...\n",
       "    script:       /global/cfs/projectdirs/m1657/liuy351/TallTower/03.clusteri...</pre><div class='xr-wrap' style='display:none'><div class='xr-header'><div class='xr-obj-type'>xarray.DataArray</div><div class='xr-array-name'></div><ul class='xr-dim-list'><li><span>x</span>: 52608</li><li><span>y</span>: 52608</li></ul></div><ul class='xr-sections'><li class='xr-section-item'><div class='xr-array-wrap'><input id='section-7c2125bf-d568-4005-9bb9-258c1b9b3866' class='xr-array-in' type='checkbox' checked><label for='section-7c2125bf-d568-4005-9bb9-258c1b9b3866' title='Show/hide data repr'><svg class='icon xr-icon-database'><use xlink:href='#icon-database'></use></svg></label><div class='xr-array-preview xr-preview'><span>...</span></div><div class='xr-array-data'><pre>[2767601664 values with dtype=float64]</pre></div></div></li><li class='xr-section-item'><input id='section-e997dc2f-e9e2-4f07-94e0-564e712512e5' class='xr-section-summary-in' type='checkbox' disabled ><label for='section-e997dc2f-e9e2-4f07-94e0-564e712512e5' class='xr-section-summary'  title='Expand/collapse section'>Coordinates: <span>(0)</span></label><div class='xr-section-inline-details'></div><div class='xr-section-details'><ul class='xr-var-list'></ul></div></li><li class='xr-section-item'><input id='section-ddcdb43d-95b1-4820-b2c2-5025cc286963' class='xr-section-summary-in' type='checkbox' disabled ><label for='section-ddcdb43d-95b1-4820-b2c2-5025cc286963' class='xr-section-summary'  title='Expand/collapse section'>Indexes: <span>(0)</span></label><div class='xr-section-inline-details'></div><div class='xr-section-details'><ul class='xr-var-list'></ul></div></li><li class='xr-section-item'><input id='section-c4938901-5402-4400-97c2-685fedc1b0f4' class='xr-section-summary-in' type='checkbox'  checked><label for='section-c4938901-5402-4400-97c2-685fedc1b0f4' class='xr-section-summary' >Attributes: <span>(2)</span></label><div class='xr-section-inline-details'></div><div class='xr-section-details'><dl class='xr-attrs'><dt><span>description :</span></dt><dd>Calculate the distance matrix for reducing the computation of clustering</dd><dt><span>script :</span></dt><dd>/global/cfs/projectdirs/m1657/liuy351/TallTower/03.clustering_HDBSCAN.ipynb</dd></dl></div></li></ul></div></div>"
      ],
      "text/plain": [
       "<xarray.DataArray (x: 52608, y: 52608)> Size: 22GB\n",
       "[2767601664 values with dtype=float64]\n",
       "Dimensions without coordinates: x, y\n",
       "Attributes:\n",
       "    description:  Calculate the distance matrix for reducing the computation ...\n",
       "    script:       /global/cfs/projectdirs/m1657/liuy351/TallTower/03.clusteri..."
      ]
     },
     "execution_count": 6,
     "metadata": {},
     "output_type": "execute_result"
    }
   ],
   "source": [
    "distance_matrix = xr.open_dataarray('ResNet_output/R18_distance_matrix.2015-2020.ERA5.nc')\n",
    "distance_matrix"
   ]
  },
  {
   "cell_type": "code",
   "execution_count": 11,
   "id": "86ec86dc",
   "metadata": {
    "scrolled": true,
    "tags": []
   },
   "outputs": [
    {
     "name": "stdout",
     "output_type": "stream",
     "text": [
      "0:01:06.960087\n"
     ]
    }
   ],
   "source": [
    "# kmean_results = {}\n",
    "\n",
    "# #for nclass in np.arange(2, 3, 1):\n",
    "\n",
    "# for nclass in np.arange(2, 42, 1):\n",
    "\n",
    "#     print(nclass)\n",
    "#     print(' start ', dt.datetime.now())\n",
    "#     kmean_model = KMeans(n_clusters=nclass, n_init=10, random_state=42)\n",
    "#     kmean_results['C%d'%nclass] = kmean_model.fit(full_NCLtag).labels_\n",
    "#     print(' end ', dt.datetime.now())\n",
    "\n",
    "# results = {}\n",
    "\n",
    "# PARAM = ({\"min_cluster_size\": 5}, {\"min_cluster_size\": 3}, {\"min_cluster_size\": 25})\n",
    "# for i, param in enumerate(PARAM):\n",
    "#     hdb = HDBSCAN(**param).fit(full_NCLtag)\n",
    "#     labels = hdb.labels_\n",
    "  \n",
    "# results = {}\n",
    "# for min_cluster_size in [120, 240, 360, 480]:\n",
    "for min_cluster_size in [4,]:\n",
    "    t1 = dt.datetime.now()\n",
    "    hdbscan_model = HDBSCAN(metric='precomputed', min_cluster_size=min_cluster_size)\n",
    "    results[f'mcs{min_cluster_size}'] = hdbscan_model.fit_predict(distance_matrix.data)\n",
    "    t2 = dt.datetime.now()\n",
    "    print(t2 - t1)"
   ]
  },
  {
   "cell_type": "code",
   "execution_count": 10,
   "id": "a0c7e378-a547-4c49-b663-11c9a9f0890f",
   "metadata": {
    "tags": []
   },
   "outputs": [
    {
     "data": {
      "text/plain": [
       "array([  -1,    0,    1, ..., 6438, 6439, 6440])"
      ]
     },
     "execution_count": 10,
     "metadata": {},
     "output_type": "execute_result"
    },
    {
     "data": {
      "image/png": "[encoded data removed]",
      "text/plain": [
       "<Figure size 640x480 with 1 Axes>"
      ]
     },
     "metadata": {},
     "output_type": "display_data"
    }
   ],
   "source": [
    "min_cluster_size = 3\n",
    "freq, edges = np.histogram(results[f'mcs{min_cluster_size}'])\n",
    "fig, ax = plt.subplots()\n",
    "ax.bar(edges[:-1], freq, width=np.diff(edges), edgecolor=\"black\", align=\"edge\")\n",
    "np.unique(results[f'mcs{min_cluster_size}'])"
   ]
  },
  {
   "cell_type": "code",
   "execution_count": 30,
   "id": "3aac3bfb-a90c-4aa1-a5c4-8dd19aa94aea",
   "metadata": {
    "tags": []
   },
   "outputs": [
    {
     "data": {
      "image/png": "[encoded data removed]",
      "text/plain": [
       "<Figure size 640x480 with 2 Axes>"
      ]
     },
     "metadata": {},
     "output_type": "display_data"
    }
   ],
   "source": [
    "import matplotlib.pyplot as plt\n",
    "from sklearn.manifold import TSNE\n",
    "\n",
    "# Reduce dimensions (this can be slow for large datasets)\n",
    "# data_embedded = TSNE(init='random', n_components=2, metric='precomputed').fit_transform(distance_matrix)\n",
    "\n",
    "# Plot\n",
    "# plt.scatter(data_embedded[:, 0], data_embedded[:, 1], c=cluster_labels, cmap='Spectral', s=50)\n",
    "plt.scatter(data_embedded[::100, 0], data_embedded[::100, 1], c=results[f'mcs{min_cluster_size}'][::100], cmap='Spectral', s=30)\n",
    "plt.title('HDBSCAN Clusters')\n",
    "plt.colorbar(label='Cluster label')\n",
    "plt.show()"
   ]
  },
  {
   "cell_type": "code",
   "execution_count": 17,
   "id": "94594882-4d01-425c-a934-17007304afcc",
   "metadata": {
    "tags": []
   },
   "outputs": [
    {
     "name": "stdout",
     "output_type": "stream",
     "text": [
      "(175320,) 52608\n"
     ]
    }
   ],
   "source": [
    "tag_20year = (ts_full.year>=2015)&(ts_full.year<=2020)\n",
    "print(tag_20year.shape, tag_20year.sum())"
   ]
  },
  {
   "cell_type": "code",
   "execution_count": 18,
   "id": "2d42622b-a4ed-4f7b-a03d-58467de68ab2",
   "metadata": {
    "tags": []
   },
   "outputs": [
    {
     "name": "stdout",
     "output_type": "stream",
     "text": [
      "/global/cfs/projectdirs/m1657/liuy351/TallTower/ResNet_output/R18_output.anomaly.2001-2020.ERA5.mat\n",
      "(52608, 512)\n"
     ]
    }
   ],
   "source": [
    "infile = rootdir + 'ResNet_output/%s_output.anomaly.2001-2020.ERA5.mat' % opt_model\n",
    "print(infile)\n",
    "inds = sio.loadmat(infile)\n",
    "full_NCLtag = inds['ResNetoutput'][tag_20year==1]\n",
    "\n",
    "print(full_NCLtag.shape)"
   ]
  },
  {
   "cell_type": "code",
   "execution_count": null,
   "id": "0eded772-516a-488f-8f4e-e96b91f0ca7f",
   "metadata": {
    "tags": []
   },
   "outputs": [],
   "source": [
    "results1 = {}\n",
    "for min_cluster_size in [120, 240, 360, 480]:\n",
    "    t1 = dt.datetime.now()\n",
    "    results1[f'mcs{min_cluster_size}'] = HDBSCAN(min_cluster_size=min_cluster_size).fit(full_NCLtag).labels_\n",
    "    t2 = dt.datetime.now()\n",
    "    print(t2 - t1)"
   ]
  },
  {
   "cell_type": "code",
   "execution_count": 12,
   "id": "f0917c8e",
   "metadata": {},
   "outputs": [],
   "source": [
    "kmean_results['year'] = np.array(ts_full.year[tag_winter_40year])\n",
    "kmean_results['month'] = np.array(ts_full.month[tag_winter_40year])\n",
    "kmean_results['day'] = np.array(ts_full.day[tag_winter_40year])"
   ]
  },
  {
   "cell_type": "code",
   "execution_count": 13,
   "id": "f70c341c",
   "metadata": {},
   "outputs": [],
   "source": [
    "tmpfile = rootdir + 'intermediate_data/weather_clustering/RH_input/%s.weather_clustering.40year_training.mat' % opt_model\n",
    "\n",
    "kmean_results['script'] = '/global/cfs/projectdirs/m1657/liuy351/TallTower/From_XD/step03.clustering_production_run.ipynb'\n",
    "kmean_results['note'] = 'Only for Oct-Mar. Use pandas to create a time series and filter out data. K-means trained using 40-year data. Not training-testing split'\n",
    "\n",
    "sio.savemat(tmpfile, kmean_results)"
   ]
  },
  {
   "cell_type": "markdown",
   "id": "0b57d5a7",
   "metadata": {},
   "source": [
    "### 1.2 30 year as training, then applied to 40 years"
   ]
  },
  {
   "cell_type": "code",
   "execution_count": 14,
   "id": "1d2f4615",
   "metadata": {},
   "outputs": [
    {
     "name": "stdout",
     "output_type": "stream",
     "text": [
      "(14610,) 5467\n"
     ]
    }
   ],
   "source": [
    "tag_winter_30year = (ts_full.year<=2010)&((ts_full.month>=10)|(ts_full.month<=3))\n",
    "print(tag_winter_30year.shape, tag_winter_30year.sum())"
   ]
  },
  {
   "cell_type": "code",
   "execution_count": 15,
   "id": "9b29728d",
   "metadata": {},
   "outputs": [
    {
     "name": "stdout",
     "output_type": "stream",
     "text": [
      "(5467, 512) (7290, 512)\n"
     ]
    }
   ],
   "source": [
    "infile = rootdir + 'ResNet_output/RH_input/%s_output.anomaly.daymean.1981-2020.ERA5.mat' % opt_model\n",
    "\n",
    "inds = sio.loadmat(infile)\n",
    "full_NCLtag_training = inds['ResNetoutput'][tag_winter_30year==1]\n",
    "full_NCLtag_prediction = inds['ResNetoutput'][tag_winter_40year==1]\n",
    "\n",
    "print(full_NCLtag_training.shape, full_NCLtag_prediction.shape)"
   ]
  },
  {
   "cell_type": "code",
   "execution_count": 16,
   "id": "e82ee278",
   "metadata": {
    "scrolled": true
   },
   "outputs": [
    {
     "name": "stdout",
     "output_type": "stream",
     "text": [
      "2\n",
      " start  2024-06-19 11:10:55.501459\n",
      " end  2024-06-19 11:10:55.880185\n",
      "3\n",
      " start  2024-06-19 11:10:55.880309\n",
      " end  2024-06-19 11:10:56.385458\n",
      "4\n",
      " start  2024-06-19 11:10:56.385590\n",
      " end  2024-06-19 11:10:57.085500\n",
      "5\n",
      " start  2024-06-19 11:10:57.085629\n",
      " end  2024-06-19 11:10:58.291042\n",
      "6\n",
      " start  2024-06-19 11:10:58.291165\n",
      " end  2024-06-19 11:10:59.071790\n",
      "7\n",
      " start  2024-06-19 11:10:59.071907\n",
      " end  2024-06-19 11:10:59.763407\n",
      "8\n",
      " start  2024-06-19 11:10:59.763523\n",
      " end  2024-06-19 11:11:00.893178\n",
      "9\n",
      " start  2024-06-19 11:11:00.893292\n",
      " end  2024-06-19 11:11:02.164450\n",
      "10\n",
      " start  2024-06-19 11:11:02.164573\n",
      " end  2024-06-19 11:11:03.555322\n",
      "11\n",
      " start  2024-06-19 11:11:03.555461\n",
      " end  2024-06-19 11:11:04.955148\n",
      "12\n",
      " start  2024-06-19 11:11:04.955287\n",
      " end  2024-06-19 11:11:06.196121\n",
      "13\n",
      " start  2024-06-19 11:11:06.196235\n",
      " end  2024-06-19 11:11:07.567761\n",
      "14\n",
      " start  2024-06-19 11:11:07.567889\n",
      " end  2024-06-19 11:11:09.001734\n",
      "15\n",
      " start  2024-06-19 11:11:09.001845\n",
      " end  2024-06-19 11:11:10.702496\n",
      "16\n",
      " start  2024-06-19 11:11:10.702615\n",
      " end  2024-06-19 11:11:12.796255\n",
      "17\n",
      " start  2024-06-19 11:11:12.796365\n",
      " end  2024-06-19 11:11:14.665021\n",
      "18\n",
      " start  2024-06-19 11:11:14.665134\n",
      " end  2024-06-19 11:11:16.278142\n",
      "19\n",
      " start  2024-06-19 11:11:16.278266\n",
      " end  2024-06-19 11:11:17.876085\n",
      "20\n",
      " start  2024-06-19 11:11:17.876238\n",
      " end  2024-06-19 11:11:19.667134\n",
      "21\n",
      " start  2024-06-19 11:11:19.667248\n",
      " end  2024-06-19 11:11:21.556351\n",
      "22\n",
      " start  2024-06-19 11:11:21.556492\n",
      " end  2024-06-19 11:11:23.389052\n",
      "23\n",
      " start  2024-06-19 11:11:23.389145\n",
      " end  2024-06-19 11:11:25.591068\n",
      "24\n",
      " start  2024-06-19 11:11:25.591165\n",
      " end  2024-06-19 11:11:27.773233\n",
      "25\n",
      " start  2024-06-19 11:11:27.773338\n",
      " end  2024-06-19 11:11:29.803699\n",
      "26\n",
      " start  2024-06-19 11:11:29.803811\n",
      " end  2024-06-19 11:11:31.588362\n",
      "27\n",
      " start  2024-06-19 11:11:31.588453\n",
      " end  2024-06-19 11:11:33.297636\n",
      "28\n",
      " start  2024-06-19 11:11:33.297731\n",
      " end  2024-06-19 11:11:35.278819\n",
      "29\n",
      " start  2024-06-19 11:11:35.278913\n",
      " end  2024-06-19 11:11:37.269247\n",
      "30\n",
      " start  2024-06-19 11:11:37.269337\n",
      " end  2024-06-19 11:11:39.568825\n",
      "31\n",
      " start  2024-06-19 11:11:39.568959\n",
      " end  2024-06-19 11:11:41.571149\n",
      "32\n",
      " start  2024-06-19 11:11:41.571282\n",
      " end  2024-06-19 11:11:43.980692\n",
      "33\n",
      " start  2024-06-19 11:11:43.980816\n",
      " end  2024-06-19 11:11:46.517894\n",
      "34\n",
      " start  2024-06-19 11:11:46.518010\n",
      " end  2024-06-19 11:11:48.958599\n",
      "35\n",
      " start  2024-06-19 11:11:48.958746\n",
      " end  2024-06-19 11:11:51.402066\n",
      "36\n",
      " start  2024-06-19 11:11:51.402178\n",
      " end  2024-06-19 11:11:53.380752\n",
      "37\n",
      " start  2024-06-19 11:11:53.380868\n",
      " end  2024-06-19 11:11:55.497205\n",
      "38\n",
      " start  2024-06-19 11:11:55.497332\n",
      " end  2024-06-19 11:11:57.965432\n",
      "39\n",
      " start  2024-06-19 11:11:57.965552\n",
      " end  2024-06-19 11:12:00.278051\n",
      "40\n",
      " start  2024-06-19 11:12:00.278218\n",
      " end  2024-06-19 11:12:02.772467\n",
      "41\n",
      " start  2024-06-19 11:12:02.772627\n",
      " end  2024-06-19 11:12:05.075772\n"
     ]
    }
   ],
   "source": [
    "kmean_results = {}\n",
    "\n",
    "#for nclass in np.arange(2, 3, 1):\n",
    "\n",
    "for nclass in np.arange(2, 42, 1):\n",
    "\n",
    "    print(nclass)\n",
    "    print(' start ', dt.datetime.now())\n",
    "    kmean_model = KMeans(n_clusters=nclass, n_init=10, random_state=42)\n",
    "    whatever_output = kmean_model.fit(full_NCLtag_training).labels_\n",
    "    kmean_results['C%d'%nclass] = kmean_model.predict(full_NCLtag_prediction)\n",
    "    print(' end ', dt.datetime.now())"
   ]
  },
  {
   "cell_type": "code",
   "execution_count": 17,
   "id": "9c9140f6",
   "metadata": {},
   "outputs": [],
   "source": [
    "kmean_results['year'] = np.array(ts_full.year[tag_winter_40year])\n",
    "kmean_results['month'] = np.array(ts_full.month[tag_winter_40year])\n",
    "kmean_results['day'] = np.array(ts_full.day[tag_winter_40year])"
   ]
  },
  {
   "cell_type": "code",
   "execution_count": 19,
   "id": "39b52466",
   "metadata": {},
   "outputs": [],
   "source": [
    "tmpfile = rootdir + 'intermediate_data/weather_clustering/RH_input/%s.weather_clustering.30year_training.mat' % opt_model\n",
    "\n",
    "kmean_results['script'] = '/global/cfs/projectdirs/m1657/liuy351/TallTower/From_XD/step03.clustering_production_run.ipynb'\n",
    "kmean_results['note'] = 'Only for Oct-Mar. Use pandas to create a time series and filter out data. K-means trained using 30-year data (1981-2010). 2011-2020 are prediction'\n",
    "\n",
    "sio.savemat(tmpfile, kmean_results)"
   ]
  },
  {
   "cell_type": "markdown",
   "id": "b2ccf21c",
   "metadata": {},
   "source": [
    "### 1.3 20-year as training"
   ]
  },
  {
   "cell_type": "code",
   "execution_count": 20,
   "id": "aa970620",
   "metadata": {},
   "outputs": [
    {
     "name": "stdout",
     "output_type": "stream",
     "text": [
      "(14610,) 3645\n"
     ]
    }
   ],
   "source": [
    "tag_winter_20year = (ts_full.year<=2000)&((ts_full.month>=10)|(ts_full.month<=3))\n",
    "print(tag_winter_20year.shape, tag_winter_20year.sum())"
   ]
  },
  {
   "cell_type": "code",
   "execution_count": 21,
   "id": "dfddbc5b",
   "metadata": {},
   "outputs": [
    {
     "name": "stdout",
     "output_type": "stream",
     "text": [
      "(3645, 512) (7290, 512)\n"
     ]
    }
   ],
   "source": [
    "infile = rootdir + 'ResNet_output/RH_input/%s_output.anomaly.daymean.1981-2020.ERA5.mat' % opt_model\n",
    "\n",
    "inds = sio.loadmat(infile)\n",
    "full_NCLtag_training = inds['ResNetoutput'][tag_winter_20year==1]\n",
    "full_NCLtag_prediction = inds['ResNetoutput'][tag_winter_40year==1]\n",
    "\n",
    "print(full_NCLtag_training.shape, full_NCLtag_prediction.shape)"
   ]
  },
  {
   "cell_type": "code",
   "execution_count": 22,
   "id": "28b5d359",
   "metadata": {
    "scrolled": true
   },
   "outputs": [
    {
     "name": "stdout",
     "output_type": "stream",
     "text": [
      "2\n",
      " start  2024-06-19 11:12:34.943046\n",
      " end  2024-06-19 11:12:35.254898\n",
      "3\n",
      " start  2024-06-19 11:12:35.255035\n",
      " end  2024-06-19 11:12:35.676436\n",
      "4\n",
      " start  2024-06-19 11:12:35.676569\n",
      " end  2024-06-19 11:12:36.185417\n",
      "5\n",
      " start  2024-06-19 11:12:36.185535\n",
      " end  2024-06-19 11:12:36.778853\n",
      "6\n",
      " start  2024-06-19 11:12:36.778966\n",
      " end  2024-06-19 11:12:37.376690\n",
      "7\n",
      " start  2024-06-19 11:12:37.376788\n",
      " end  2024-06-19 11:12:38.196203\n",
      "8\n",
      " start  2024-06-19 11:12:38.196315\n",
      " end  2024-06-19 11:12:39.093319\n",
      "9\n",
      " start  2024-06-19 11:12:39.093435\n",
      " end  2024-06-19 11:12:39.896669\n",
      "10\n",
      " start  2024-06-19 11:12:39.896775\n",
      " end  2024-06-19 11:12:40.996252\n",
      "11\n",
      " start  2024-06-19 11:12:40.996359\n",
      " end  2024-06-19 11:12:41.957062\n",
      "12\n",
      " start  2024-06-19 11:12:41.957160\n",
      " end  2024-06-19 11:12:42.777701\n",
      "13\n",
      " start  2024-06-19 11:12:42.777815\n",
      " end  2024-06-19 11:12:43.765905\n",
      "14\n",
      " start  2024-06-19 11:12:43.766009\n",
      " end  2024-06-19 11:12:44.868077\n",
      "15\n",
      " start  2024-06-19 11:12:44.868187\n",
      " end  2024-06-19 11:12:45.955201\n",
      "16\n",
      " start  2024-06-19 11:12:45.955306\n",
      " end  2024-06-19 11:12:47.173080\n",
      "17\n",
      " start  2024-06-19 11:12:47.173186\n",
      " end  2024-06-19 11:12:48.577071\n",
      "18\n",
      " start  2024-06-19 11:12:48.577176\n",
      " end  2024-06-19 11:12:49.981768\n",
      "19\n",
      " start  2024-06-19 11:12:49.981863\n",
      " end  2024-06-19 11:12:51.264276\n",
      "20\n",
      " start  2024-06-19 11:12:51.264377\n",
      " end  2024-06-19 11:12:52.682096\n",
      "21\n",
      " start  2024-06-19 11:12:52.682191\n",
      " end  2024-06-19 11:12:54.097377\n",
      "22\n",
      " start  2024-06-19 11:12:54.097490\n",
      " end  2024-06-19 11:12:55.763917\n",
      "23\n",
      " start  2024-06-19 11:12:55.764011\n",
      " end  2024-06-19 11:12:57.264505\n",
      "24\n",
      " start  2024-06-19 11:12:57.264594\n",
      " end  2024-06-19 11:12:58.568872\n",
      "25\n",
      " start  2024-06-19 11:12:58.568975\n",
      " end  2024-06-19 11:12:59.568115\n",
      "26\n",
      " start  2024-06-19 11:12:59.568376\n",
      " end  2024-06-19 11:13:00.782089\n",
      "27\n",
      " start  2024-06-19 11:13:00.782185\n",
      " end  2024-06-19 11:13:02.389846\n",
      "28\n",
      " start  2024-06-19 11:13:02.389943\n",
      " end  2024-06-19 11:13:03.881852\n",
      "29\n",
      " start  2024-06-19 11:13:03.881968\n",
      " end  2024-06-19 11:13:05.455355\n",
      "30\n",
      " start  2024-06-19 11:13:05.455673\n",
      " end  2024-06-19 11:13:06.996168\n",
      "31\n",
      " start  2024-06-19 11:13:06.996284\n",
      " end  2024-06-19 11:13:08.767556\n",
      "32\n",
      " start  2024-06-19 11:13:08.767692\n",
      " end  2024-06-19 11:13:10.271025\n",
      "33\n",
      " start  2024-06-19 11:13:10.271152\n",
      " end  2024-06-19 11:13:11.879627\n",
      "34\n",
      " start  2024-06-19 11:13:11.879755\n",
      " end  2024-06-19 11:13:13.599905\n",
      "35\n",
      " start  2024-06-19 11:13:13.600017\n",
      " end  2024-06-19 11:13:15.488358\n",
      "36\n",
      " start  2024-06-19 11:13:15.488642\n",
      " end  2024-06-19 11:13:17.197004\n",
      "37\n",
      " start  2024-06-19 11:13:17.197103\n",
      " end  2024-06-19 11:13:19.179630\n",
      "38\n",
      " start  2024-06-19 11:13:19.179742\n",
      " end  2024-06-19 11:13:20.884847\n",
      "39\n",
      " start  2024-06-19 11:13:20.884972\n",
      " end  2024-06-19 11:13:22.498717\n",
      "40\n",
      " start  2024-06-19 11:13:22.498855\n",
      " end  2024-06-19 11:13:24.261829\n",
      "41\n",
      " start  2024-06-19 11:13:24.261939\n",
      " end  2024-06-19 11:13:25.998377\n"
     ]
    }
   ],
   "source": [
    "kmean_results = {}\n",
    "\n",
    "#for nclass in np.arange(2, 3, 1):\n",
    "\n",
    "for nclass in np.arange(2, 42, 1):\n",
    "\n",
    "    print(nclass)\n",
    "    print(' start ', dt.datetime.now())\n",
    "    kmean_model = KMeans(n_clusters=nclass, n_init=10, random_state=42)\n",
    "    whatever_output = kmean_model.fit(full_NCLtag_training).labels_\n",
    "    kmean_results['C%d'%nclass] = kmean_model.predict(full_NCLtag_prediction)\n",
    "    print(' end ', dt.datetime.now())"
   ]
  },
  {
   "cell_type": "code",
   "execution_count": 23,
   "id": "717060be",
   "metadata": {},
   "outputs": [],
   "source": [
    "kmean_results['year'] = np.array(ts_full.year[tag_winter_40year])\n",
    "kmean_results['month'] = np.array(ts_full.month[tag_winter_40year])\n",
    "kmean_results['day'] = np.array(ts_full.day[tag_winter_40year])"
   ]
  },
  {
   "cell_type": "code",
   "execution_count": 24,
   "id": "cb94b33f",
   "metadata": {},
   "outputs": [],
   "source": [
    "tmpfile = rootdir + 'intermediate_data/weather_clustering/RH_input/%s.weather_clustering.20year_training.mat' % opt_model\n",
    "\n",
    "kmean_results['script'] = '/global/cfs/projectdirs/m1657/liuy351/TallTower/From_XD/step03.clustering_production_run.ipynb'\n",
    "kmean_results['note'] = 'Only for Oct-Mar. Use pandas to create a time series and filter out data. K-means trained using 20-year data (1981-2010). 2001-2020 are prediction'\n",
    "\n",
    "sio.savemat(tmpfile, kmean_results)"
   ]
  },
  {
   "cell_type": "code",
   "execution_count": 26,
   "id": "074c00a0",
   "metadata": {},
   "outputs": [
    {
     "data": {
      "text/plain": [
       "array([ 4,  2,  2, ...,  7,  6, 13], dtype=int32)"
      ]
     },
     "execution_count": 26,
     "metadata": {},
     "output_type": "execute_result"
    }
   ],
   "source": [
    "kmean_results['C17']"
   ]
  },
  {
   "cell_type": "code",
   "execution_count": null,
   "id": "4242fcb7",
   "metadata": {},
   "outputs": [],
   "source": []
  }
 ],
 "metadata": {
  "kernelspec": {
   "display_name": "myCompute",
   "language": "python",
   "name": "compute"
  },
  "language_info": {
   "codemirror_mode": {
    "name": "ipython",
    "version": 3
   },
   "file_extension": ".py",
   "mimetype": "text/x-python",
   "name": "python",
   "nbconvert_exporter": "python",
   "pygments_lexer": "ipython3",
   "version": "3.11.5"
  }
 },
 "nbformat": 4,
 "nbformat_minor": 5
}
