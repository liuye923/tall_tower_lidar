{
 "cells": [
  {
   "cell_type": "code",
   "execution_count": 1,
   "id": "898e7d46",
   "metadata": {
    "tags": []
   },
   "outputs": [],
   "source": [
    "import numpy as np\n",
    "import scipy.io as sio\n",
    "\n",
    "import pandas as pd\n",
    "import datetime as dt"
   ]
  },
  {
   "cell_type": "code",
   "execution_count": 2,
   "id": "ce1e154d",
   "metadata": {
    "tags": []
   },
   "outputs": [],
   "source": [
    "from sklearn.cluster import KMeans"
   ]
  },
  {
   "cell_type": "code",
   "execution_count": 3,
   "id": "dc484368",
   "metadata": {
    "tags": []
   },
   "outputs": [],
   "source": [
    "rootdir = '/global/cfs/projectdirs/m1657/liuy351/TallTower/'\n"
   ]
  },
  {
   "cell_type": "code",
   "execution_count": 4,
   "id": "17e94360",
   "metadata": {
    "tags": []
   },
   "outputs": [],
   "source": [
    "opt_model = 'R18'"
   ]
  },
  {
   "cell_type": "code",
   "execution_count": 5,
   "id": "d6f39ff5",
   "metadata": {
    "tags": []
   },
   "outputs": [],
   "source": [
    "ts_full = pd.date_range('2001-01-01 00:00', end='2020-12-31 23:00', freq='h')"
   ]
  },
  {
   "cell_type": "markdown",
   "id": "31d91e00",
   "metadata": {},
   "source": [
    "## 1. Run a classifier to cluster weather systems"
   ]
  },
  {
   "cell_type": "markdown",
   "id": "94f48e47",
   "metadata": {},
   "source": [
    "### 1.1 5 years"
   ]
  },
  {
   "cell_type": "code",
   "execution_count": 6,
   "id": "240368cb",
   "metadata": {},
   "outputs": [
    {
     "name": "stdout",
     "output_type": "stream",
     "text": [
      "(175320,) 52608\n"
     ]
    }
   ],
   "source": [
    "tag_year = (ts_full.year>=2015)&(ts_full.year<=2020)\n",
    "print(tag_year.shape, tag_year.sum())"
   ]
  },
  {
   "cell_type": "code",
   "execution_count": 7,
   "id": "920b8076",
   "metadata": {
    "tags": []
   },
   "outputs": [
    {
     "name": "stdout",
     "output_type": "stream",
     "text": [
      "/global/cfs/projectdirs/m1657/liuy351/TallTower/ResNet_output/R18_output.anomaly.2001-2020.ERA5.mat\n",
      "(175320, 512)\n"
     ]
    }
   ],
   "source": [
    "infile = rootdir + 'ResNet_output/%s_output.anomaly.2001-2020.ERA5.mat' % opt_model\n",
    "print(infile)\n",
    "inds = sio.loadmat(infile)\n",
    "full_NCLtag = inds['ResNetoutput']#[tag_winter_40year==1]\n",
    "\n",
    "print(full_NCLtag.shape)"
   ]
  },
  {
   "cell_type": "code",
   "execution_count": 8,
   "id": "60f5791a-1d7c-4445-a6ae-9062102fdfc2",
   "metadata": {
    "tags": []
   },
   "outputs": [],
   "source": [
    "import dask.array as da\n",
    "full_NCLtag = da.from_array(full_NCLtag, chunks=(128, 512))"
   ]
  },
  {
   "cell_type": "code",
   "execution_count": null,
   "id": "86ec86dc",
   "metadata": {
    "scrolled": true,
    "tags": []
   },
   "outputs": [
    {
     "name": "stdout",
     "output_type": "stream",
     "text": [
      "2\n",
      " start  2024-06-20 16:32:20.423676\n",
      " end  2024-06-20 16:32:27.291556\n",
      "3\n",
      " start  2024-06-20 16:32:27.291689\n",
      " end  2024-06-20 16:32:35.219262\n",
      "4\n",
      " start  2024-06-20 16:32:35.219385\n"
     ]
    },
    {
     "ename": "KeyboardInterrupt",
     "evalue": "",
     "output_type": "error",
     "traceback": [
      "\u001b[0;31m---------------------------------------------------------------------------\u001b[0m",
      "\u001b[0;31mKeyboardInterrupt\u001b[0m                         Traceback (most recent call last)",
      "File \u001b[0;32m<__array_function__ internals>:177\u001b[0m, in \u001b[0;36mwhere\u001b[0;34m(*args, **kwargs)\u001b[0m\n",
      "\u001b[0;31mKeyboardInterrupt\u001b[0m: "
     ]
    },
    {
     "name": "stderr",
     "output_type": "stream",
     "text": [
      "Exception ignored in: 'sklearn.cluster._k_means_common._relocate_empty_clusters_dense'\n",
      "Traceback (most recent call last):\n",
      "  File \"<__array_function__ internals>\", line 177, in where\n",
      "KeyboardInterrupt: \n"
     ]
    },
    {
     "ename": "KeyboardInterrupt",
     "evalue": "",
     "output_type": "error",
     "traceback": [
      "\u001b[0;31m---------------------------------------------------------------------------\u001b[0m",
      "\u001b[0;31mKeyboardInterrupt\u001b[0m                         Traceback (most recent call last)",
      "File \u001b[0;32m<__array_function__ internals>:177\u001b[0m, in \u001b[0;36mwhere\u001b[0;34m(*args, **kwargs)\u001b[0m\n",
      "\u001b[0;31mKeyboardInterrupt\u001b[0m: "
     ]
    },
    {
     "name": "stderr",
     "output_type": "stream",
     "text": [
      "Exception ignored in: 'sklearn.cluster._k_means_common._relocate_empty_clusters_dense'\n",
      "Traceback (most recent call last):\n",
      "  File \"<__array_function__ internals>\", line 177, in where\n",
      "KeyboardInterrupt: \n"
     ]
    },
    {
     "name": "stdout",
     "output_type": "stream",
     "text": [
      " end  2024-06-20 16:32:44.772534\n",
      "5\n",
      " start  2024-06-20 16:32:44.772635\n",
      " end  2024-06-20 16:33:10.789900\n",
      "6\n",
      " start  2024-06-20 16:33:10.789998\n",
      " end  2024-06-20 16:33:28.200567\n",
      "7\n",
      " start  2024-06-20 16:33:28.200694\n",
      " end  2024-06-20 16:33:55.163317\n",
      "8\n",
      " start  2024-06-20 16:33:55.163461\n",
      " end  2024-06-20 16:34:23.146708\n",
      "9\n",
      " start  2024-06-20 16:34:23.146852\n",
      " end  2024-06-20 16:34:50.600533\n",
      "10\n",
      " start  2024-06-20 16:34:50.600671\n"
     ]
    },
    {
     "ename": "KeyboardInterrupt",
     "evalue": "",
     "output_type": "error",
     "traceback": [
      "\u001b[0;31m---------------------------------------------------------------------------\u001b[0m",
      "\u001b[0;31mKeyboardInterrupt\u001b[0m                         Traceback (most recent call last)",
      "File \u001b[0;32m<__array_function__ internals>:177\u001b[0m, in \u001b[0;36mwhere\u001b[0;34m(*args, **kwargs)\u001b[0m\n",
      "\u001b[0;31mKeyboardInterrupt\u001b[0m: "
     ]
    },
    {
     "name": "stderr",
     "output_type": "stream",
     "text": [
      "Exception ignored in: 'sklearn.cluster._k_means_common._relocate_empty_clusters_dense'\n",
      "Traceback (most recent call last):\n",
      "  File \"<__array_function__ internals>\", line 177, in where\n",
      "KeyboardInterrupt: \n"
     ]
    },
    {
     "ename": "KeyboardInterrupt",
     "evalue": "",
     "output_type": "error",
     "traceback": [
      "\u001b[0;31m---------------------------------------------------------------------------\u001b[0m",
      "\u001b[0;31mKeyboardInterrupt\u001b[0m                         Traceback (most recent call last)",
      "File \u001b[0;32m<__array_function__ internals>:177\u001b[0m, in \u001b[0;36mwhere\u001b[0;34m(*args, **kwargs)\u001b[0m\n",
      "\u001b[0;31mKeyboardInterrupt\u001b[0m: "
     ]
    },
    {
     "name": "stderr",
     "output_type": "stream",
     "text": [
      "Exception ignored in: 'sklearn.cluster._k_means_common._relocate_empty_clusters_dense'\n",
      "Traceback (most recent call last):\n",
      "  File \"<__array_function__ internals>\", line 177, in where\n",
      "KeyboardInterrupt: \n"
     ]
    },
    {
     "name": "stdout",
     "output_type": "stream",
     "text": [
      " end  2024-06-20 16:35:24.430441\n",
      "11\n",
      " start  2024-06-20 16:35:24.430634\n"
     ]
    }
   ],
   "source": [
    "kmean_results = {}\n",
    "\n",
    "#for nclass in np.arange(2, 3, 1):\n",
    "\n",
    "for nclass in np.arange(2, 42, 1):\n",
    "\n",
    "    print(nclass)\n",
    "    print(' start ', dt.datetime.now())\n",
    "    # kmean_model = KMeans(n_clusters=nclass, n_init=10, random_state=330)\n",
    "    kmean_model = KMeans(n_clusters=nclass, n_init=10, random_state=330)\n",
    "    kmean_results['C%d'%nclass] = kmean_model.fit(full_NCLtag).labels_\n",
    "    print(' end ', dt.datetime.now())"
   ]
  },
  {
   "cell_type": "code",
   "execution_count": 12,
   "id": "f0917c8e",
   "metadata": {},
   "outputs": [],
   "source": [
    "kmean_results['year'] = np.array(ts_full.year[tag_winter_40year])\n",
    "kmean_results['month'] = np.array(ts_full.month[tag_winter_40year])\n",
    "kmean_results['day'] = np.array(ts_full.day[tag_winter_40year])"
   ]
  },
  {
   "cell_type": "code",
   "execution_count": 13,
   "id": "f70c341c",
   "metadata": {},
   "outputs": [],
   "source": [
    "tmpfile = rootdir + 'intermediate_data/weather_clustering/RH_input/%s.weather_clustering.40year_training.mat' % opt_model\n",
    "\n",
    "kmean_results['script'] = '/global/cfs/projectdirs/m1657/liuy351/TallTower/From_XD/step03.clustering_production_run.ipynb'\n",
    "kmean_results['note'] = 'Only for Oct-Mar. Use pandas to create a time series and filter out data. K-means trained using 40-year data. Not training-testing split'\n",
    "\n",
    "sio.savemat(tmpfile, kmean_results)"
   ]
  },
  {
   "cell_type": "markdown",
   "id": "0b57d5a7",
   "metadata": {},
   "source": [
    "### 1.2 30 year as training, then applied to 40 years"
   ]
  },
  {
   "cell_type": "code",
   "execution_count": 14,
   "id": "1d2f4615",
   "metadata": {},
   "outputs": [
    {
     "name": "stdout",
     "output_type": "stream",
     "text": [
      "(14610,) 5467\n"
     ]
    }
   ],
   "source": [
    "tag_winter_30year = (ts_full.year<=2010)&((ts_full.month>=10)|(ts_full.month<=3))\n",
    "print(tag_winter_30year.shape, tag_winter_30year.sum())"
   ]
  },
  {
   "cell_type": "code",
   "execution_count": 15,
   "id": "9b29728d",
   "metadata": {},
   "outputs": [
    {
     "name": "stdout",
     "output_type": "stream",
     "text": [
      "(5467, 512) (7290, 512)\n"
     ]
    }
   ],
   "source": [
    "infile = rootdir + 'ResNet_output/RH_input/%s_output.anomaly.daymean.1981-2020.ERA5.mat' % opt_model\n",
    "\n",
    "inds = sio.loadmat(infile)\n",
    "full_NCLtag_training = inds['ResNetoutput'][tag_winter_30year==1]\n",
    "full_NCLtag_prediction = inds['ResNetoutput'][tag_winter_40year==1]\n",
    "\n",
    "print(full_NCLtag_training.shape, full_NCLtag_prediction.shape)"
   ]
  },
  {
   "cell_type": "code",
   "execution_count": 16,
   "id": "e82ee278",
   "metadata": {
    "scrolled": true
   },
   "outputs": [
    {
     "name": "stdout",
     "output_type": "stream",
     "text": [
      "2\n",
      " start  2024-06-19 11:10:55.501459\n",
      " end  2024-06-19 11:10:55.880185\n",
      "3\n",
      " start  2024-06-19 11:10:55.880309\n",
      " end  2024-06-19 11:10:56.385458\n",
      "4\n",
      " start  2024-06-19 11:10:56.385590\n",
      " end  2024-06-19 11:10:57.085500\n",
      "5\n",
      " start  2024-06-19 11:10:57.085629\n",
      " end  2024-06-19 11:10:58.291042\n",
      "6\n",
      " start  2024-06-19 11:10:58.291165\n",
      " end  2024-06-19 11:10:59.071790\n",
      "7\n",
      " start  2024-06-19 11:10:59.071907\n",
      " end  2024-06-19 11:10:59.763407\n",
      "8\n",
      " start  2024-06-19 11:10:59.763523\n",
      " end  2024-06-19 11:11:00.893178\n",
      "9\n",
      " start  2024-06-19 11:11:00.893292\n",
      " end  2024-06-19 11:11:02.164450\n",
      "10\n",
      " start  2024-06-19 11:11:02.164573\n",
      " end  2024-06-19 11:11:03.555322\n",
      "11\n",
      " start  2024-06-19 11:11:03.555461\n",
      " end  2024-06-19 11:11:04.955148\n",
      "12\n",
      " start  2024-06-19 11:11:04.955287\n",
      " end  2024-06-19 11:11:06.196121\n",
      "13\n",
      " start  2024-06-19 11:11:06.196235\n",
      " end  2024-06-19 11:11:07.567761\n",
      "14\n",
      " start  2024-06-19 11:11:07.567889\n",
      " end  2024-06-19 11:11:09.001734\n",
      "15\n",
      " start  2024-06-19 11:11:09.001845\n",
      " end  2024-06-19 11:11:10.702496\n",
      "16\n",
      " start  2024-06-19 11:11:10.702615\n",
      " end  2024-06-19 11:11:12.796255\n",
      "17\n",
      " start  2024-06-19 11:11:12.796365\n",
      " end  2024-06-19 11:11:14.665021\n",
      "18\n",
      " start  2024-06-19 11:11:14.665134\n",
      " end  2024-06-19 11:11:16.278142\n",
      "19\n",
      " start  2024-06-19 11:11:16.278266\n",
      " end  2024-06-19 11:11:17.876085\n",
      "20\n",
      " start  2024-06-19 11:11:17.876238\n",
      " end  2024-06-19 11:11:19.667134\n",
      "21\n",
      " start  2024-06-19 11:11:19.667248\n",
      " end  2024-06-19 11:11:21.556351\n",
      "22\n",
      " start  2024-06-19 11:11:21.556492\n",
      " end  2024-06-19 11:11:23.389052\n",
      "23\n",
      " start  2024-06-19 11:11:23.389145\n",
      " end  2024-06-19 11:11:25.591068\n",
      "24\n",
      " start  2024-06-19 11:11:25.591165\n",
      " end  2024-06-19 11:11:27.773233\n",
      "25\n",
      " start  2024-06-19 11:11:27.773338\n",
      " end  2024-06-19 11:11:29.803699\n",
      "26\n",
      " start  2024-06-19 11:11:29.803811\n",
      " end  2024-06-19 11:11:31.588362\n",
      "27\n",
      " start  2024-06-19 11:11:31.588453\n",
      " end  2024-06-19 11:11:33.297636\n",
      "28\n",
      " start  2024-06-19 11:11:33.297731\n",
      " end  2024-06-19 11:11:35.278819\n",
      "29\n",
      " start  2024-06-19 11:11:35.278913\n",
      " end  2024-06-19 11:11:37.269247\n",
      "30\n",
      " start  2024-06-19 11:11:37.269337\n",
      " end  2024-06-19 11:11:39.568825\n",
      "31\n",
      " start  2024-06-19 11:11:39.568959\n",
      " end  2024-06-19 11:11:41.571149\n",
      "32\n",
      " start  2024-06-19 11:11:41.571282\n",
      " end  2024-06-19 11:11:43.980692\n",
      "33\n",
      " start  2024-06-19 11:11:43.980816\n",
      " end  2024-06-19 11:11:46.517894\n",
      "34\n",
      " start  2024-06-19 11:11:46.518010\n",
      " end  2024-06-19 11:11:48.958599\n",
      "35\n",
      " start  2024-06-19 11:11:48.958746\n",
      " end  2024-06-19 11:11:51.402066\n",
      "36\n",
      " start  2024-06-19 11:11:51.402178\n",
      " end  2024-06-19 11:11:53.380752\n",
      "37\n",
      " start  2024-06-19 11:11:53.380868\n",
      " end  2024-06-19 11:11:55.497205\n",
      "38\n",
      " start  2024-06-19 11:11:55.497332\n",
      " end  2024-06-19 11:11:57.965432\n",
      "39\n",
      " start  2024-06-19 11:11:57.965552\n",
      " end  2024-06-19 11:12:00.278051\n",
      "40\n",
      " start  2024-06-19 11:12:00.278218\n",
      " end  2024-06-19 11:12:02.772467\n",
      "41\n",
      " start  2024-06-19 11:12:02.772627\n",
      " end  2024-06-19 11:12:05.075772\n"
     ]
    }
   ],
   "source": [
    "kmean_results = {}\n",
    "\n",
    "#for nclass in np.arange(2, 3, 1):\n",
    "\n",
    "for nclass in np.arange(2, 42, 1):\n",
    "\n",
    "    print(nclass)\n",
    "    print(' start ', dt.datetime.now())\n",
    "    kmean_model = KMeans(n_clusters=nclass, n_init=10, random_state=42)\n",
    "    whatever_output = kmean_model.fit(full_NCLtag_training).labels_\n",
    "    kmean_results['C%d'%nclass] = kmean_model.predict(full_NCLtag_prediction)\n",
    "    print(' end ', dt.datetime.now())"
   ]
  },
  {
   "cell_type": "code",
   "execution_count": 17,
   "id": "9c9140f6",
   "metadata": {},
   "outputs": [],
   "source": [
    "kmean_results['year'] = np.array(ts_full.year[tag_winter_40year])\n",
    "kmean_results['month'] = np.array(ts_full.month[tag_winter_40year])\n",
    "kmean_results['day'] = np.array(ts_full.day[tag_winter_40year])"
   ]
  },
  {
   "cell_type": "code",
   "execution_count": 19,
   "id": "39b52466",
   "metadata": {},
   "outputs": [],
   "source": [
    "tmpfile = rootdir + 'intermediate_data/weather_clustering/RH_input/%s.weather_clustering.30year_training.mat' % opt_model\n",
    "\n",
    "kmean_results['script'] = '/global/cfs/projectdirs/m1657/liuy351/TallTower/From_XD/step03.clustering_production_run.ipynb'\n",
    "kmean_results['note'] = 'Only for Oct-Mar. Use pandas to create a time series and filter out data. K-means trained using 30-year data (1981-2010). 2011-2020 are prediction'\n",
    "\n",
    "sio.savemat(tmpfile, kmean_results)"
   ]
  },
  {
   "cell_type": "markdown",
   "id": "b2ccf21c",
   "metadata": {},
   "source": [
    "### 1.3 20-year as training"
   ]
  },
  {
   "cell_type": "code",
   "execution_count": 20,
   "id": "aa970620",
   "metadata": {},
   "outputs": [
    {
     "name": "stdout",
     "output_type": "stream",
     "text": [
      "(14610,) 3645\n"
     ]
    }
   ],
   "source": [
    "tag_winter_20year = (ts_full.year<=2000)&((ts_full.month>=10)|(ts_full.month<=3))\n",
    "print(tag_winter_20year.shape, tag_winter_20year.sum())"
   ]
  },
  {
   "cell_type": "code",
   "execution_count": 21,
   "id": "dfddbc5b",
   "metadata": {},
   "outputs": [
    {
     "name": "stdout",
     "output_type": "stream",
     "text": [
      "(3645, 512) (7290, 512)\n"
     ]
    }
   ],
   "source": [
    "infile = rootdir + 'ResNet_output/RH_input/%s_output.anomaly.daymean.1981-2020.ERA5.mat' % opt_model\n",
    "\n",
    "inds = sio.loadmat(infile)\n",
    "full_NCLtag_training = inds['ResNetoutput'][tag_winter_20year==1]\n",
    "full_NCLtag_prediction = inds['ResNetoutput'][tag_winter_40year==1]\n",
    "\n",
    "print(full_NCLtag_training.shape, full_NCLtag_prediction.shape)"
   ]
  },
  {
   "cell_type": "code",
   "execution_count": 22,
   "id": "28b5d359",
   "metadata": {
    "scrolled": true
   },
   "outputs": [
    {
     "name": "stdout",
     "output_type": "stream",
     "text": [
      "2\n",
      " start  2024-06-19 11:12:34.943046\n",
      " end  2024-06-19 11:12:35.254898\n",
      "3\n",
      " start  2024-06-19 11:12:35.255035\n",
      " end  2024-06-19 11:12:35.676436\n",
      "4\n",
      " start  2024-06-19 11:12:35.676569\n",
      " end  2024-06-19 11:12:36.185417\n",
      "5\n",
      " start  2024-06-19 11:12:36.185535\n",
      " end  2024-06-19 11:12:36.778853\n",
      "6\n",
      " start  2024-06-19 11:12:36.778966\n",
      " end  2024-06-19 11:12:37.376690\n",
      "7\n",
      " start  2024-06-19 11:12:37.376788\n",
      " end  2024-06-19 11:12:38.196203\n",
      "8\n",
      " start  2024-06-19 11:12:38.196315\n",
      " end  2024-06-19 11:12:39.093319\n",
      "9\n",
      " start  2024-06-19 11:12:39.093435\n",
      " end  2024-06-19 11:12:39.896669\n",
      "10\n",
      " start  2024-06-19 11:12:39.896775\n",
      " end  2024-06-19 11:12:40.996252\n",
      "11\n",
      " start  2024-06-19 11:12:40.996359\n",
      " end  2024-06-19 11:12:41.957062\n",
      "12\n",
      " start  2024-06-19 11:12:41.957160\n",
      " end  2024-06-19 11:12:42.777701\n",
      "13\n",
      " start  2024-06-19 11:12:42.777815\n",
      " end  2024-06-19 11:12:43.765905\n",
      "14\n",
      " start  2024-06-19 11:12:43.766009\n",
      " end  2024-06-19 11:12:44.868077\n",
      "15\n",
      " start  2024-06-19 11:12:44.868187\n",
      " end  2024-06-19 11:12:45.955201\n",
      "16\n",
      " start  2024-06-19 11:12:45.955306\n",
      " end  2024-06-19 11:12:47.173080\n",
      "17\n",
      " start  2024-06-19 11:12:47.173186\n",
      " end  2024-06-19 11:12:48.577071\n",
      "18\n",
      " start  2024-06-19 11:12:48.577176\n",
      " end  2024-06-19 11:12:49.981768\n",
      "19\n",
      " start  2024-06-19 11:12:49.981863\n",
      " end  2024-06-19 11:12:51.264276\n",
      "20\n",
      " start  2024-06-19 11:12:51.264377\n",
      " end  2024-06-19 11:12:52.682096\n",
      "21\n",
      " start  2024-06-19 11:12:52.682191\n",
      " end  2024-06-19 11:12:54.097377\n",
      "22\n",
      " start  2024-06-19 11:12:54.097490\n",
      " end  2024-06-19 11:12:55.763917\n",
      "23\n",
      " start  2024-06-19 11:12:55.764011\n",
      " end  2024-06-19 11:12:57.264505\n",
      "24\n",
      " start  2024-06-19 11:12:57.264594\n",
      " end  2024-06-19 11:12:58.568872\n",
      "25\n",
      " start  2024-06-19 11:12:58.568975\n",
      " end  2024-06-19 11:12:59.568115\n",
      "26\n",
      " start  2024-06-19 11:12:59.568376\n",
      " end  2024-06-19 11:13:00.782089\n",
      "27\n",
      " start  2024-06-19 11:13:00.782185\n",
      " end  2024-06-19 11:13:02.389846\n",
      "28\n",
      " start  2024-06-19 11:13:02.389943\n",
      " end  2024-06-19 11:13:03.881852\n",
      "29\n",
      " start  2024-06-19 11:13:03.881968\n",
      " end  2024-06-19 11:13:05.455355\n",
      "30\n",
      " start  2024-06-19 11:13:05.455673\n",
      " end  2024-06-19 11:13:06.996168\n",
      "31\n",
      " start  2024-06-19 11:13:06.996284\n",
      " end  2024-06-19 11:13:08.767556\n",
      "32\n",
      " start  2024-06-19 11:13:08.767692\n",
      " end  2024-06-19 11:13:10.271025\n",
      "33\n",
      " start  2024-06-19 11:13:10.271152\n",
      " end  2024-06-19 11:13:11.879627\n",
      "34\n",
      " start  2024-06-19 11:13:11.879755\n",
      " end  2024-06-19 11:13:13.599905\n",
      "35\n",
      " start  2024-06-19 11:13:13.600017\n",
      " end  2024-06-19 11:13:15.488358\n",
      "36\n",
      " start  2024-06-19 11:13:15.488642\n",
      " end  2024-06-19 11:13:17.197004\n",
      "37\n",
      " start  2024-06-19 11:13:17.197103\n",
      " end  2024-06-19 11:13:19.179630\n",
      "38\n",
      " start  2024-06-19 11:13:19.179742\n",
      " end  2024-06-19 11:13:20.884847\n",
      "39\n",
      " start  2024-06-19 11:13:20.884972\n",
      " end  2024-06-19 11:13:22.498717\n",
      "40\n",
      " start  2024-06-19 11:13:22.498855\n",
      " end  2024-06-19 11:13:24.261829\n",
      "41\n",
      " start  2024-06-19 11:13:24.261939\n",
      " end  2024-06-19 11:13:25.998377\n"
     ]
    }
   ],
   "source": [
    "kmean_results = {}\n",
    "\n",
    "#for nclass in np.arange(2, 3, 1):\n",
    "\n",
    "for nclass in np.arange(2, 42, 1):\n",
    "\n",
    "    print(nclass)\n",
    "    print(' start ', dt.datetime.now())\n",
    "    kmean_model = KMeans(n_clusters=nclass, n_init=10, random_state=42)\n",
    "    whatever_output = kmean_model.fit(full_NCLtag_training).labels_\n",
    "    kmean_results['C%d'%nclass] = kmean_model.predict(full_NCLtag_prediction)\n",
    "    print(' end ', dt.datetime.now())"
   ]
  },
  {
   "cell_type": "code",
   "execution_count": 23,
   "id": "717060be",
   "metadata": {},
   "outputs": [],
   "source": [
    "kmean_results['year'] = np.array(ts_full.year[tag_winter_40year])\n",
    "kmean_results['month'] = np.array(ts_full.month[tag_winter_40year])\n",
    "kmean_results['day'] = np.array(ts_full.day[tag_winter_40year])"
   ]
  },
  {
   "cell_type": "code",
   "execution_count": 24,
   "id": "cb94b33f",
   "metadata": {},
   "outputs": [],
   "source": [
    "tmpfile = rootdir + 'intermediate_data/weather_clustering/RH_input/%s.weather_clustering.20year_training.mat' % opt_model\n",
    "\n",
    "kmean_results['script'] = '/global/cfs/projectdirs/m1657/liuy351/TallTower/From_XD/step03.clustering_production_run.ipynb'\n",
    "kmean_results['note'] = 'Only for Oct-Mar. Use pandas to create a time series and filter out data. K-means trained using 20-year data (1981-2010). 2001-2020 are prediction'\n",
    "\n",
    "sio.savemat(tmpfile, kmean_results)"
   ]
  },
  {
   "cell_type": "code",
   "execution_count": 26,
   "id": "074c00a0",
   "metadata": {},
   "outputs": [
    {
     "data": {
      "text/plain": [
       "array([ 4,  2,  2, ...,  7,  6, 13], dtype=int32)"
      ]
     },
     "execution_count": 26,
     "metadata": {},
     "output_type": "execute_result"
    }
   ],
   "source": [
    "kmean_results['C17']"
   ]
  },
  {
   "cell_type": "code",
   "execution_count": null,
   "id": "4242fcb7",
   "metadata": {},
   "outputs": [],
   "source": []
  }
 ],
 "metadata": {
  "kernelspec": {
   "display_name": "Python 3",
   "language": "python",
   "name": "python3"
  },
  "language_info": {
   "codemirror_mode": {
    "name": "ipython",
    "version": 3
   },
   "file_extension": ".py",
   "mimetype": "text/x-python",
   "name": "python",
   "nbconvert_exporter": "python",
   "pygments_lexer": "ipython3",
   "version": "3.11.5"
  }
 },
 "nbformat": 4,
 "nbformat_minor": 5
}
